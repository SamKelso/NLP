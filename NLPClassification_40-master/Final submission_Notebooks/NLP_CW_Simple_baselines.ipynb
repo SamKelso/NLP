{
  "cells": [
    {
      "cell_type": "markdown",
      "metadata": {
        "id": "6MF9yL_g0pku"
      },
      "source": [
        "# NLP CourseWork"
      ]
    },
    {
      "cell_type": "markdown",
      "metadata": {
        "id": "GrBJEYbR0pk1"
      },
      "source": [
        "The Patronizing and Condescending Language Detection Task is based on the paper Don't Patronize Me! An annotated Dataset with Patronizing and Condescending Language Towards Vulnerable Communities (Perez-Almendros et al., 2020).\n",
        "\n",
        "The aim of this task is to identify PCL, and to categorize the linguistic techniques used to express it, specifically when referring to communities identified as being vulnerable to unfair treatment in the media.\n",
        "\n",
        "Participants are provided with sentences in context (paragraphs), extracted from news articles, in which one or several predefined vulnerable communities are mentioned. \n",
        "\n",
        "About the task:\n",
        "The minimum linguistic unit in this task is the paragraph (i.e., sentences in context). Paragraphs are extracted from news articles from a range of outlets. These paragraphs may contain one or more instances of PCL targeting a set of predefined vulnerable communities. This challenge is divided into two subtasks.\n",
        "\n",
        "Subtask 1: Binary classification.\n",
        "Given a paragraph, a system must predict whether or not it contains any form of PCL.\n",
        "Examples\n",
        "In the last week of April, 1,100 migrants died or went missing off Libya in nine separate incidents. - NO PCL\n",
        "\n",
        "People across Australia ordered pizzas to be delivered on Saturday night, with the ample leftovers donated to local homeless shelters. - PCL\n",
        "\n",
        "\n",
        "Subtask 2: Multi-label classification.\n",
        "Given a paragraph, a system must identify which PCL categories express the condescension. Our PCL taxonomy has been defined based on previous works on PCL. We consider the following categories:\n",
        "Unbalanced power relations. The author distances themselves from the community or the situation they are talking about and expresses the will, capacity or responsibility to help those in need. It is also present when the author entitles themselves to give something positive to others in a more vulnerable situation, especially when what the author concedes is a right which they do not have any authority to decide to give. \n",
        "\n",
        "* Shallow solution. A simple and superficial charitable action by the privileged community is presented either as life-saving/life-changing for the unprivileged one or as a solution for a deep-rooted problem.\n",
        "\n",
        "* Presupposition. When the author assumes a situation as certain without having all the information or generalises their or somebody else’s experience as a categorical truth without presenting a valid, trustworthy source for it (e.g. a research work or survey). The use of stereotypes or clichés is also considered to be examples of presupposition.\n",
        "Authority voice. When the author stands themselves as a spokesperson of the group, or ex-plains or advises the members of a community about the community itself or a specific situation they are living.\n",
        "\n",
        "\n",
        "* Metaphor. They can conceal PCL, as they cast an idea in another light, making a comparison between unrelated concepts, often with the objective of depicting a certain situation in a softer way. For the annotation of this dataset, euphemisms are considered as an example of metaphors.\n",
        "\n",
        "\n",
        "* Compassion. The author presents the vulnerable individual or community as needy, raising a feeling of pity and compassion from the audience towards them. It is commonly characterized by the use of flowery wording that does not provide information, but the author enjoys the detailed and poetic description of the vulnerability.\n",
        "\n",
        "* The poorer, the merrier. The text is focused on the community, especially on how the vulnerability makes them better (e.g. stronger, happier or more resilient) or how they share a positive attribute just for being part of a vulnerable community. People living in vulnerable situations have values to admire and learn from. The message expresses the idea of vulnerability as something beautiful o or poetic. We can think of the typical example of ‘poor people are happier because they don’t have material goods’. \n",
        "\n",
        "Examples\n",
        "*BUSINESSMAN Norberto Quisumbing Jr. of the Norkis Group of Companies has a challenge for families who can spare some of what they have: why not adopt poor families and help them break the cycle of poverty?\n",
        "why not adopt poor families and help them break the cycle of poverty? - Unbalanced_power_relations\n",
        "adopt poor families - Shallow_solution\n",
        "break the cycle of poverty - Metaphor\n",
        "\n",
        "\n",
        "* Iain Duncan-Smith has made his feelings about benefits claimants clear: poor families are to be given pre-paid cards, loaded with payments, to make sure they spend the money on food, rather than their \"self-destructive habits\".\n",
        "\n",
        "\n",
        "* Iain Duncan-Smith has made his feelings about benefits claimants clear: poor families are to be given pre-paid cards, loaded with payments, to make sure they spend the money on food, rather than their \"self-destructive habits\" - Authority_voice\n",
        "\n",
        "\n",
        "poor families are to be given pre-paid cards, loaded with payments - Unbalanced_power_relations\n",
        "to make sure they spend the money on food, rather than their \"self-destructive habits\" - Presupposition\n",
        "poor families are to be given pre-paid cards, loaded with payments - Shallow_solution\n",
        " "
      ]
    },
    {
      "cell_type": "markdown",
      "metadata": {
        "id": "B4xpRF6W0pk3"
      },
      "source": [
        "### Binary classification.\n",
        " Given a paragraph, a system must predict whether or not it contains any form of PCL."
      ]
    },
    {
      "cell_type": "markdown",
      "metadata": {
        "id": "K4Tu-2CW0pk4"
      },
      "source": [
        "https://aclanthology.org/2020.coling-main.518.pdf\n",
        "See paper for more details on the data set"
      ]
    },
    {
      "cell_type": "markdown",
      "metadata": {
        "id": "3r20DEdc0pk5"
      },
      "source": [
        "\n",
        "## 1. Import the relevant libraries"
      ]
    },
    {
      "cell_type": "code",
      "execution_count": null,
      "metadata": {
        "colab": {
          "base_uri": "https://localhost:8080/"
        },
        "id": "M_08l4_Z24p6",
        "outputId": "ab02cfd8-f368-4470-98f2-7cd4fdacdddf"
      },
      "outputs": [
        {
          "output_type": "stream",
          "name": "stdout",
          "text": [
            "Looking in indexes: https://pypi.org/simple, https://us-python.pkg.dev/colab-wheels/public/simple/\n",
            "Collecting simpletransformers\n",
            "  Downloading simpletransformers-0.63.9-py3-none-any.whl (250 kB)\n",
            "\u001b[2K     \u001b[90m━━━━━━━━━━━━━━━━━━━━━━━━━━━━━━━━━━━━━━━\u001b[0m \u001b[32m250.5/250.5 KB\u001b[0m \u001b[31m4.9 MB/s\u001b[0m eta \u001b[36m0:00:00\u001b[0m\n",
            "\u001b[?25hCollecting wandb>=0.10.32\n",
            "  Downloading wandb-0.13.10-py3-none-any.whl (2.0 MB)\n",
            "\u001b[2K     \u001b[90m━━━━━━━━━━━━━━━━━━━━━━━━━━━━━━━━━━━━━━━━\u001b[0m \u001b[32m2.0/2.0 MB\u001b[0m \u001b[31m35.2 MB/s\u001b[0m eta \u001b[36m0:00:00\u001b[0m\n",
            "\u001b[?25hRequirement already satisfied: pandas in /usr/local/lib/python3.8/dist-packages (from simpletransformers) (1.3.5)\n",
            "Collecting seqeval\n",
            "  Downloading seqeval-1.2.2.tar.gz (43 kB)\n",
            "\u001b[2K     \u001b[90m━━━━━━━━━━━━━━━━━━━━━━━━━━━━━━━━━━━━━━━━\u001b[0m \u001b[32m43.6/43.6 KB\u001b[0m \u001b[31m3.2 MB/s\u001b[0m eta \u001b[36m0:00:00\u001b[0m\n",
            "\u001b[?25h  Preparing metadata (setup.py) ... \u001b[?25l\u001b[?25hdone\n",
            "Requirement already satisfied: tensorboard in /usr/local/lib/python3.8/dist-packages (from simpletransformers) (2.11.2)\n",
            "Collecting tokenizers\n",
            "  Downloading tokenizers-0.13.2-cp38-cp38-manylinux_2_17_x86_64.manylinux2014_x86_64.whl (7.6 MB)\n",
            "\u001b[2K     \u001b[90m━━━━━━━━━━━━━━━━━━━━━━━━━━━━━━━━━━━━━━━━\u001b[0m \u001b[32m7.6/7.6 MB\u001b[0m \u001b[31m10.6 MB/s\u001b[0m eta \u001b[36m0:00:00\u001b[0m\n",
            "\u001b[?25hCollecting streamlit\n",
            "  Downloading streamlit-1.19.0-py2.py3-none-any.whl (9.6 MB)\n",
            "\u001b[2K     \u001b[90m━━━━━━━━━━━━━━━━━━━━━━━━━━━━━━━━━━━━━━━━\u001b[0m \u001b[32m9.6/9.6 MB\u001b[0m \u001b[31m26.6 MB/s\u001b[0m eta \u001b[36m0:00:00\u001b[0m\n",
            "\u001b[?25hCollecting sentencepiece\n",
            "  Downloading sentencepiece-0.1.97-cp38-cp38-manylinux_2_17_x86_64.manylinux2014_x86_64.whl (1.3 MB)\n",
            "\u001b[2K     \u001b[90m━━━━━━━━━━━━━━━━━━━━━━━━━━━━━━━━━━━━━━━━\u001b[0m \u001b[32m1.3/1.3 MB\u001b[0m \u001b[31m12.0 MB/s\u001b[0m eta \u001b[36m0:00:00\u001b[0m\n",
            "\u001b[?25hRequirement already satisfied: scikit-learn in /usr/local/lib/python3.8/dist-packages (from simpletransformers) (1.2.1)\n",
            "Requirement already satisfied: tqdm>=4.47.0 in /usr/local/lib/python3.8/dist-packages (from simpletransformers) (4.64.1)\n",
            "Collecting datasets\n",
            "  Downloading datasets-2.10.1-py3-none-any.whl (469 kB)\n",
            "\u001b[2K     \u001b[90m━━━━━━━━━━━━━━━━━━━━━━━━━━━━━━━━━━━━━━\u001b[0m \u001b[32m469.0/469.0 KB\u001b[0m \u001b[31m24.2 MB/s\u001b[0m eta \u001b[36m0:00:00\u001b[0m\n",
            "\u001b[?25hRequirement already satisfied: scipy in /usr/local/lib/python3.8/dist-packages (from simpletransformers) (1.10.1)\n",
            "Requirement already satisfied: requests in /usr/local/lib/python3.8/dist-packages (from simpletransformers) (2.25.1)\n",
            "Requirement already satisfied: numpy in /usr/local/lib/python3.8/dist-packages (from simpletransformers) (1.22.4)\n",
            "Requirement already satisfied: regex in /usr/local/lib/python3.8/dist-packages (from simpletransformers) (2022.6.2)\n",
            "Collecting transformers>=4.6.0\n",
            "  Downloading transformers-4.26.1-py3-none-any.whl (6.3 MB)\n",
            "\u001b[2K     \u001b[90m━━━━━━━━━━━━━━━━━━━━━━━━━━━━━━━━━━━━━━━━\u001b[0m \u001b[32m6.3/6.3 MB\u001b[0m \u001b[31m29.5 MB/s\u001b[0m eta \u001b[36m0:00:00\u001b[0m\n",
            "\u001b[?25hRequirement already satisfied: filelock in /usr/local/lib/python3.8/dist-packages (from transformers>=4.6.0->simpletransformers) (3.9.0)\n",
            "Requirement already satisfied: pyyaml>=5.1 in /usr/local/lib/python3.8/dist-packages (from transformers>=4.6.0->simpletransformers) (6.0)\n",
            "Collecting huggingface-hub<1.0,>=0.11.0\n",
            "  Downloading huggingface_hub-0.12.1-py3-none-any.whl (190 kB)\n",
            "\u001b[2K     \u001b[90m━━━━━━━━━━━━━━━━━━━━━━━━━━━━━━━━━━━━━━\u001b[0m \u001b[32m190.3/190.3 KB\u001b[0m \u001b[31m11.0 MB/s\u001b[0m eta \u001b[36m0:00:00\u001b[0m\n",
            "\u001b[?25hRequirement already satisfied: packaging>=20.0 in /usr/local/lib/python3.8/dist-packages (from transformers>=4.6.0->simpletransformers) (23.0)\n",
            "Collecting setproctitle\n",
            "  Downloading setproctitle-1.3.2-cp38-cp38-manylinux_2_5_x86_64.manylinux1_x86_64.manylinux_2_17_x86_64.manylinux2014_x86_64.whl (31 kB)\n",
            "Requirement already satisfied: psutil>=5.0.0 in /usr/local/lib/python3.8/dist-packages (from wandb>=0.10.32->simpletransformers) (5.4.8)\n",
            "Requirement already satisfied: setuptools in /usr/local/lib/python3.8/dist-packages (from wandb>=0.10.32->simpletransformers) (57.4.0)\n",
            "Collecting GitPython>=1.0.0\n",
            "  Downloading GitPython-3.1.31-py3-none-any.whl (184 kB)\n",
            "\u001b[2K     \u001b[90m━━━━━━━━━━━━━━━━━━━━━━━━━━━━━━━━━━━━━━━\u001b[0m \u001b[32m184.3/184.3 KB\u001b[0m \u001b[31m2.5 MB/s\u001b[0m eta \u001b[36m0:00:00\u001b[0m\n",
            "\u001b[?25hRequirement already satisfied: protobuf!=4.21.0,<5,>=3.12.0 in /usr/local/lib/python3.8/dist-packages (from wandb>=0.10.32->simpletransformers) (3.19.6)\n",
            "Collecting docker-pycreds>=0.4.0\n",
            "  Downloading docker_pycreds-0.4.0-py2.py3-none-any.whl (9.0 kB)\n",
            "Requirement already satisfied: appdirs>=1.4.3 in /usr/local/lib/python3.8/dist-packages (from wandb>=0.10.32->simpletransformers) (1.4.4)\n",
            "Requirement already satisfied: Click!=8.0.0,>=7.0 in /usr/local/lib/python3.8/dist-packages (from wandb>=0.10.32->simpletransformers) (8.1.3)\n",
            "Collecting pathtools\n",
            "  Downloading pathtools-0.1.2.tar.gz (11 kB)\n",
            "  Preparing metadata (setup.py) ... \u001b[?25l\u001b[?25hdone\n",
            "Collecting sentry-sdk>=1.0.0\n",
            "  Downloading sentry_sdk-1.16.0-py2.py3-none-any.whl (184 kB)\n",
            "\u001b[2K     \u001b[90m━━━━━━━━━━━━━━━━━━━━━━━━━━━━━━━━━━━━━━━\u001b[0m \u001b[32m184.3/184.3 KB\u001b[0m \u001b[31m7.6 MB/s\u001b[0m eta \u001b[36m0:00:00\u001b[0m\n",
            "\u001b[?25hRequirement already satisfied: typing-extensions in /usr/local/lib/python3.8/dist-packages (from wandb>=0.10.32->simpletransformers) (4.5.0)\n",
            "Requirement already satisfied: idna<3,>=2.5 in /usr/local/lib/python3.8/dist-packages (from requests->simpletransformers) (2.10)\n",
            "Requirement already satisfied: urllib3<1.27,>=1.21.1 in /usr/local/lib/python3.8/dist-packages (from requests->simpletransformers) (1.26.14)\n",
            "Requirement already satisfied: certifi>=2017.4.17 in /usr/local/lib/python3.8/dist-packages (from requests->simpletransformers) (2022.12.7)\n",
            "Requirement already satisfied: chardet<5,>=3.0.2 in /usr/local/lib/python3.8/dist-packages (from requests->simpletransformers) (4.0.0)\n",
            "Requirement already satisfied: aiohttp in /usr/local/lib/python3.8/dist-packages (from datasets->simpletransformers) (3.8.4)\n",
            "Collecting dill<0.3.7,>=0.3.0\n",
            "  Downloading dill-0.3.6-py3-none-any.whl (110 kB)\n",
            "\u001b[2K     \u001b[90m━━━━━━━━━━━━━━━━━━━━━━━━━━━━━━━━━━━━━━━\u001b[0m \u001b[32m110.5/110.5 KB\u001b[0m \u001b[31m5.1 MB/s\u001b[0m eta \u001b[36m0:00:00\u001b[0m\n",
            "\u001b[?25hCollecting responses<0.19\n",
            "  Downloading responses-0.18.0-py3-none-any.whl (38 kB)\n",
            "Requirement already satisfied: fsspec[http]>=2021.11.1 in /usr/local/lib/python3.8/dist-packages (from datasets->simpletransformers) (2023.1.0)\n",
            "Requirement already satisfied: pyarrow>=6.0.0 in /usr/local/lib/python3.8/dist-packages (from datasets->simpletransformers) (9.0.0)\n",
            "Collecting multiprocess\n",
            "  Downloading multiprocess-0.70.14-py38-none-any.whl (132 kB)\n",
            "\u001b[2K     \u001b[90m━━━━━━━━━━━━━━━━━━━━━━━━━━━━━━━━━━━━━━━\u001b[0m \u001b[32m132.0/132.0 KB\u001b[0m \u001b[31m8.4 MB/s\u001b[0m eta \u001b[36m0:00:00\u001b[0m\n",
            "\u001b[?25hCollecting xxhash\n",
            "  Downloading xxhash-3.2.0-cp38-cp38-manylinux_2_17_x86_64.manylinux2014_x86_64.whl (213 kB)\n",
            "\u001b[2K     \u001b[90m━━━━━━━━━━━━━━━━━━━━━━━━━━━━━━━━━━━━━━━\u001b[0m \u001b[32m213.0/213.0 KB\u001b[0m \u001b[31m8.8 MB/s\u001b[0m eta \u001b[36m0:00:00\u001b[0m\n",
            "\u001b[?25hRequirement already satisfied: pytz>=2017.3 in /usr/local/lib/python3.8/dist-packages (from pandas->simpletransformers) (2022.7.1)\n",
            "Requirement already satisfied: python-dateutil>=2.7.3 in /usr/local/lib/python3.8/dist-packages (from pandas->simpletransformers) (2.8.2)\n",
            "Requirement already satisfied: threadpoolctl>=2.0.0 in /usr/local/lib/python3.8/dist-packages (from scikit-learn->simpletransformers) (3.1.0)\n",
            "Requirement already satisfied: joblib>=1.1.1 in /usr/local/lib/python3.8/dist-packages (from scikit-learn->simpletransformers) (1.2.0)\n",
            "Requirement already satisfied: tzlocal>=1.1 in /usr/local/lib/python3.8/dist-packages (from streamlit->simpletransformers) (1.5.1)\n",
            "Requirement already satisfied: cachetools>=4.0 in /usr/local/lib/python3.8/dist-packages (from streamlit->simpletransformers) (5.3.0)\n",
            "Collecting rich>=10.11.0\n",
            "  Downloading rich-13.3.2-py3-none-any.whl (238 kB)\n",
            "\u001b[2K     \u001b[90m━━━━━━━━━━━━━━━━━━━━━━━━━━━━━━━━━━━━━━━\u001b[0m \u001b[32m238.7/238.7 KB\u001b[0m \u001b[31m6.8 MB/s\u001b[0m eta \u001b[36m0:00:00\u001b[0m\n",
            "\u001b[?25hRequirement already satisfied: toml in /usr/local/lib/python3.8/dist-packages (from streamlit->simpletransformers) (0.10.2)\n",
            "Collecting pympler>=0.9\n",
            "  Downloading Pympler-1.0.1-py3-none-any.whl (164 kB)\n",
            "\u001b[2K     \u001b[90m━━━━━━━━━━━━━━━━━━━━━━━━━━━━━━━━━━━━━━\u001b[0m \u001b[32m164.8/164.8 KB\u001b[0m \u001b[31m10.4 MB/s\u001b[0m eta \u001b[36m0:00:00\u001b[0m\n",
            "\u001b[?25hRequirement already satisfied: importlib-metadata>=1.4 in /usr/local/lib/python3.8/dist-packages (from streamlit->simpletransformers) (6.0.0)\n",
            "Requirement already satisfied: pillow>=6.2.0 in /usr/local/lib/python3.8/dist-packages (from streamlit->simpletransformers) (8.4.0)\n",
            "Collecting validators>=0.2\n",
            "  Downloading validators-0.20.0.tar.gz (30 kB)\n",
            "  Preparing metadata (setup.py) ... \u001b[?25l\u001b[?25hdone\n",
            "Collecting semver\n",
            "  Downloading semver-2.13.0-py2.py3-none-any.whl (12 kB)\n",
            "Requirement already satisfied: tornado>=6.0.3 in /usr/local/lib/python3.8/dist-packages (from streamlit->simpletransformers) (6.2)\n",
            "Collecting pydeck>=0.1.dev5\n",
            "  Downloading pydeck-0.8.0-py2.py3-none-any.whl (4.7 MB)\n",
            "\u001b[2K     \u001b[90m━━━━━━━━━━━━━━━━━━━━━━━━━━━━━━━━━━━━━━━━\u001b[0m \u001b[32m4.7/4.7 MB\u001b[0m \u001b[31m63.3 MB/s\u001b[0m eta \u001b[36m0:00:00\u001b[0m\n",
            "\u001b[?25hCollecting blinker>=1.0.0\n",
            "  Downloading blinker-1.5-py2.py3-none-any.whl (12 kB)\n",
            "Requirement already satisfied: altair>=3.2.0 in /usr/local/lib/python3.8/dist-packages (from streamlit->simpletransformers) (4.2.2)\n",
            "Collecting watchdog\n",
            "  Downloading watchdog-2.3.1-py3-none-manylinux2014_x86_64.whl (80 kB)\n",
            "\u001b[2K     \u001b[90m━━━━━━━━━━━━━━━━━━━━━━━━━━━━━━━━━━━━━━━━\u001b[0m \u001b[32m80.6/80.6 KB\u001b[0m \u001b[31m9.5 MB/s\u001b[0m eta \u001b[36m0:00:00\u001b[0m\n",
            "\u001b[?25hRequirement already satisfied: google-auth-oauthlib<0.5,>=0.4.1 in /usr/local/lib/python3.8/dist-packages (from tensorboard->simpletransformers) (0.4.6)\n",
            "Requirement already satisfied: absl-py>=0.4 in /usr/local/lib/python3.8/dist-packages (from tensorboard->simpletransformers) (1.4.0)\n",
            "Requirement already satisfied: tensorboard-data-server<0.7.0,>=0.6.0 in /usr/local/lib/python3.8/dist-packages (from tensorboard->simpletransformers) (0.6.1)\n",
            "Requirement already satisfied: markdown>=2.6.8 in /usr/local/lib/python3.8/dist-packages (from tensorboard->simpletransformers) (3.4.1)\n",
            "Requirement already satisfied: wheel>=0.26 in /usr/local/lib/python3.8/dist-packages (from tensorboard->simpletransformers) (0.38.4)\n",
            "Requirement already satisfied: werkzeug>=1.0.1 in /usr/local/lib/python3.8/dist-packages (from tensorboard->simpletransformers) (2.2.3)\n",
            "Requirement already satisfied: google-auth<3,>=1.6.3 in /usr/local/lib/python3.8/dist-packages (from tensorboard->simpletransformers) (2.16.1)\n",
            "Requirement already satisfied: grpcio>=1.24.3 in /usr/local/lib/python3.8/dist-packages (from tensorboard->simpletransformers) (1.51.3)\n",
            "Requirement already satisfied: tensorboard-plugin-wit>=1.6.0 in /usr/local/lib/python3.8/dist-packages (from tensorboard->simpletransformers) (1.8.1)\n",
            "Requirement already satisfied: entrypoints in /usr/local/lib/python3.8/dist-packages (from altair>=3.2.0->streamlit->simpletransformers) (0.4)\n",
            "Requirement already satisfied: jsonschema>=3.0 in /usr/local/lib/python3.8/dist-packages (from altair>=3.2.0->streamlit->simpletransformers) (4.3.3)\n",
            "Requirement already satisfied: toolz in /usr/local/lib/python3.8/dist-packages (from altair>=3.2.0->streamlit->simpletransformers) (0.12.0)\n",
            "Requirement already satisfied: jinja2 in /usr/local/lib/python3.8/dist-packages (from altair>=3.2.0->streamlit->simpletransformers) (3.1.2)\n",
            "Requirement already satisfied: six>=1.4.0 in /usr/local/lib/python3.8/dist-packages (from docker-pycreds>=0.4.0->wandb>=0.10.32->simpletransformers) (1.15.0)\n",
            "Requirement already satisfied: attrs>=17.3.0 in /usr/local/lib/python3.8/dist-packages (from aiohttp->datasets->simpletransformers) (22.2.0)\n",
            "Requirement already satisfied: yarl<2.0,>=1.0 in /usr/local/lib/python3.8/dist-packages (from aiohttp->datasets->simpletransformers) (1.8.2)\n",
            "Requirement already satisfied: multidict<7.0,>=4.5 in /usr/local/lib/python3.8/dist-packages (from aiohttp->datasets->simpletransformers) (6.0.4)\n",
            "Requirement already satisfied: async-timeout<5.0,>=4.0.0a3 in /usr/local/lib/python3.8/dist-packages (from aiohttp->datasets->simpletransformers) (4.0.2)\n",
            "Requirement already satisfied: frozenlist>=1.1.1 in /usr/local/lib/python3.8/dist-packages (from aiohttp->datasets->simpletransformers) (1.3.3)\n",
            "Requirement already satisfied: aiosignal>=1.1.2 in /usr/local/lib/python3.8/dist-packages (from aiohttp->datasets->simpletransformers) (1.3.1)\n",
            "Requirement already satisfied: charset-normalizer<4.0,>=2.0 in /usr/local/lib/python3.8/dist-packages (from aiohttp->datasets->simpletransformers) (3.0.1)\n",
            "Collecting gitdb<5,>=4.0.1\n",
            "  Downloading gitdb-4.0.10-py3-none-any.whl (62 kB)\n",
            "\u001b[2K     \u001b[90m━━━━━━━━━━━━━━━━━━━━━━━━━━━━━━━━━━━━━━━━\u001b[0m \u001b[32m62.7/62.7 KB\u001b[0m \u001b[31m5.1 MB/s\u001b[0m eta \u001b[36m0:00:00\u001b[0m\n",
            "\u001b[?25hRequirement already satisfied: pyasn1-modules>=0.2.1 in /usr/local/lib/python3.8/dist-packages (from google-auth<3,>=1.6.3->tensorboard->simpletransformers) (0.2.8)\n",
            "Requirement already satisfied: rsa<5,>=3.1.4 in /usr/local/lib/python3.8/dist-packages (from google-auth<3,>=1.6.3->tensorboard->simpletransformers) (4.9)\n",
            "Requirement already satisfied: requests-oauthlib>=0.7.0 in /usr/local/lib/python3.8/dist-packages (from google-auth-oauthlib<0.5,>=0.4.1->tensorboard->simpletransformers) (1.3.1)\n",
            "Requirement already satisfied: zipp>=0.5 in /usr/local/lib/python3.8/dist-packages (from importlib-metadata>=1.4->streamlit->simpletransformers) (3.15.0)\n",
            "Collecting markdown-it-py<3.0.0,>=2.2.0\n",
            "  Downloading markdown_it_py-2.2.0-py3-none-any.whl (84 kB)\n",
            "\u001b[2K     \u001b[90m━━━━━━━━━━━━━━━━━━━━━━━━━━━━━━━━━━━━━━━━\u001b[0m \u001b[32m84.5/84.5 KB\u001b[0m \u001b[31m9.7 MB/s\u001b[0m eta \u001b[36m0:00:00\u001b[0m\n",
            "\u001b[?25hCollecting pygments<3.0.0,>=2.13.0\n",
            "  Downloading Pygments-2.14.0-py3-none-any.whl (1.1 MB)\n",
            "\u001b[2K     \u001b[90m━━━━━━━━━━━━━━━━━━━━━━━━━━━━━━━━━━━━━━━━\u001b[0m \u001b[32m1.1/1.1 MB\u001b[0m \u001b[31m45.8 MB/s\u001b[0m eta \u001b[36m0:00:00\u001b[0m\n",
            "\u001b[?25hRequirement already satisfied: decorator>=3.4.0 in /usr/local/lib/python3.8/dist-packages (from validators>=0.2->streamlit->simpletransformers) (4.4.2)\n",
            "Requirement already satisfied: MarkupSafe>=2.1.1 in /usr/local/lib/python3.8/dist-packages (from werkzeug>=1.0.1->tensorboard->simpletransformers) (2.1.2)\n",
            "Collecting smmap<6,>=3.0.1\n",
            "  Downloading smmap-5.0.0-py3-none-any.whl (24 kB)\n",
            "Requirement already satisfied: pyrsistent!=0.17.0,!=0.17.1,!=0.17.2,>=0.14.0 in /usr/local/lib/python3.8/dist-packages (from jsonschema>=3.0->altair>=3.2.0->streamlit->simpletransformers) (0.19.3)\n",
            "Requirement already satisfied: importlib-resources>=1.4.0 in /usr/local/lib/python3.8/dist-packages (from jsonschema>=3.0->altair>=3.2.0->streamlit->simpletransformers) (5.12.0)\n",
            "Collecting mdurl~=0.1\n",
            "  Downloading mdurl-0.1.2-py3-none-any.whl (10.0 kB)\n",
            "Requirement already satisfied: pyasn1<0.5.0,>=0.4.6 in /usr/local/lib/python3.8/dist-packages (from pyasn1-modules>=0.2.1->google-auth<3,>=1.6.3->tensorboard->simpletransformers) (0.4.8)\n",
            "Requirement already satisfied: oauthlib>=3.0.0 in /usr/local/lib/python3.8/dist-packages (from requests-oauthlib>=0.7.0->google-auth-oauthlib<0.5,>=0.4.1->tensorboard->simpletransformers) (3.2.2)\n",
            "Building wheels for collected packages: seqeval, validators, pathtools\n",
            "  Building wheel for seqeval (setup.py) ... \u001b[?25l\u001b[?25hdone\n",
            "  Created wheel for seqeval: filename=seqeval-1.2.2-py3-none-any.whl size=16179 sha256=dcf1d4d3b0d5d49e2e4d84ae47c5ab10ea29a8d017603e1b4198f0d86671f50c\n",
            "  Stored in directory: /root/.cache/pip/wheels/ad/5c/ba/05fa33fa5855777b7d686e843ec07452f22a66a138e290e732\n",
            "  Building wheel for validators (setup.py) ... \u001b[?25l\u001b[?25hdone\n",
            "  Created wheel for validators: filename=validators-0.20.0-py3-none-any.whl size=19581 sha256=99abe69e69c3421c2103bcb8e468de74d5e8ef503a387843d048f77b2ed1f60f\n",
            "  Stored in directory: /root/.cache/pip/wheels/19/09/72/3eb74d236bb48bd0f3c6c3c83e4e0c5bbfcbcad7c6c3539db8\n",
            "  Building wheel for pathtools (setup.py) ... \u001b[?25l\u001b[?25hdone\n",
            "  Created wheel for pathtools: filename=pathtools-0.1.2-py3-none-any.whl size=8806 sha256=07baba23696cb04511a89766560747061a2fc6b3cbf988dd4c379123170846c4\n",
            "  Stored in directory: /root/.cache/pip/wheels/4c/8e/7e/72fbc243e1aeecae64a96875432e70d4e92f3d2d18123be004\n",
            "Successfully built seqeval validators pathtools\n",
            "Installing collected packages: tokenizers, sentencepiece, pathtools, xxhash, watchdog, validators, smmap, setproctitle, sentry-sdk, semver, pympler, pygments, mdurl, docker-pycreds, dill, blinker, responses, pydeck, multiprocess, markdown-it-py, huggingface-hub, gitdb, transformers, seqeval, rich, GitPython, wandb, streamlit, datasets, simpletransformers\n",
            "  Attempting uninstall: pygments\n",
            "    Found existing installation: Pygments 2.6.1\n",
            "    Uninstalling Pygments-2.6.1:\n",
            "      Successfully uninstalled Pygments-2.6.1\n",
            "\u001b[31mERROR: pip's dependency resolver does not currently take into account all the packages that are installed. This behaviour is the source of the following dependency conflicts.\n",
            "ipython 7.9.0 requires jedi>=0.10, which is not installed.\u001b[0m\u001b[31m\n",
            "\u001b[0mSuccessfully installed GitPython-3.1.31 blinker-1.5 datasets-2.10.1 dill-0.3.6 docker-pycreds-0.4.0 gitdb-4.0.10 huggingface-hub-0.12.1 markdown-it-py-2.2.0 mdurl-0.1.2 multiprocess-0.70.14 pathtools-0.1.2 pydeck-0.8.0 pygments-2.14.0 pympler-1.0.1 responses-0.18.0 rich-13.3.2 semver-2.13.0 sentencepiece-0.1.97 sentry-sdk-1.16.0 seqeval-1.2.2 setproctitle-1.3.2 simpletransformers-0.63.9 smmap-5.0.0 streamlit-1.19.0 tokenizers-0.13.2 transformers-4.26.1 validators-0.20.0 wandb-0.13.10 watchdog-2.3.1 xxhash-3.2.0\n",
            "Looking in indexes: https://pypi.org/simple, https://us-python.pkg.dev/colab-wheels/public/simple/\n",
            "Collecting tensorboardx\n",
            "  Downloading tensorboardX-2.6-py2.py3-none-any.whl (114 kB)\n",
            "\u001b[2K     \u001b[90m━━━━━━━━━━━━━━━━━━━━━━━━━━━━━━━━━━━━━━━\u001b[0m \u001b[32m114.5/114.5 KB\u001b[0m \u001b[31m3.9 MB/s\u001b[0m eta \u001b[36m0:00:00\u001b[0m\n",
            "\u001b[?25hRequirement already satisfied: packaging in /usr/local/lib/python3.8/dist-packages (from tensorboardx) (23.0)\n",
            "Requirement already satisfied: protobuf<4,>=3.8.0 in /usr/local/lib/python3.8/dist-packages (from tensorboardx) (3.19.6)\n",
            "Requirement already satisfied: numpy in /usr/local/lib/python3.8/dist-packages (from tensorboardx) (1.22.4)\n",
            "Installing collected packages: tensorboardx\n",
            "Successfully installed tensorboardx-2.6\n"
          ]
        }
      ],
      "source": [
        "!pip install simpletransformers\n",
        "!pip install tensorboardx"
      ]
    },
    {
      "cell_type": "code",
      "execution_count": null,
      "metadata": {
        "id": "HpRLLRzkTwdL"
      },
      "outputs": [],
      "source": [
        "import random\n",
        "import os\n",
        "from urllib import request\n",
        "\n",
        "#Imports for Transformers\n",
        "from simpletransformers.classification import ClassificationModel, ClassificationArgs, MultiLabelClassificationModel, MultiLabelClassificationArgs\n",
        "from urllib import request\n",
        "import pandas as pd\n",
        "import logging\n",
        "import torch\n",
        "torch.manual_seed(42)\n",
        "from collections import Counter\n",
        "from ast import literal_eval"
      ]
    },
    {
      "cell_type": "markdown",
      "metadata": {
        "id": "p3srm96X7Jo9"
      },
      "source": [
        "# 2. Resources\n",
        "\n",
        "In order to run this notebook, you first need the following: "
      ]
    },
    {
      "cell_type": "markdown",
      "metadata": {
        "id": "8h8sihAs6vYN"
      },
      "source": [
        "## 2.1. The _Don't Patronize Me!_ dataset\n",
        "\n",
        "Files contained in the _Don't Patronize Me!_ data file, which you can access from [here](https://github.com/Perez-AlmendrosC/dontpatronizeme) (you need to fill a short form and it will be sent to you)."
      ]
    },
    {
      "cell_type": "markdown",
      "metadata": {
        "id": "XXW58vOI6wUi"
      },
      "source": [
        "### The `dont_patronize_me.py` module\n",
        "\n",
        "You can get this file by running the cell below."
      ]
    },
    {
      "cell_type": "code",
      "execution_count": null,
      "metadata": {
        "id": "20krIeYC06Aq"
      },
      "outputs": [],
      "source": [
        "# Mount the notebook "
      ]
    },
    {
      "cell_type": "code",
      "execution_count": null,
      "metadata": {
        "colab": {
          "base_uri": "https://localhost:8080/"
        },
        "id": "o6jpM4r808MW",
        "outputId": "17cc17a3-b143-4121-d6d5-a84a4cc06715"
      },
      "outputs": [
        {
          "output_type": "stream",
          "name": "stdout",
          "text": [
            "Mounted at /content/drive\n"
          ]
        }
      ],
      "source": [
        "from google.colab import drive\n",
        "drive.mount('/content/drive')"
      ]
    },
    {
      "cell_type": "code",
      "execution_count": null,
      "metadata": {
        "colab": {
          "base_uri": "https://localhost:8080/"
        },
        "id": "yhxvSIX53WFm",
        "outputId": "b5f114ac-cbd1-4eb5-fc5c-8f1567900043"
      },
      "outputs": [
        {
          "output_type": "stream",
          "name": "stdout",
          "text": [
            "Cuda available?  False\n"
          ]
        }
      ],
      "source": [
        "# prepare logger\n",
        "logging.basicConfig(level=logging.INFO)\n",
        "\n",
        "transformers_logger = logging.getLogger(\"transformers\")\n",
        "transformers_logger.setLevel(logging.WARNING)\n",
        "\n",
        "# check gpu\n",
        "cuda_available = torch.cuda.is_available()\n",
        "\n",
        "print('Cuda available? ',cuda_available)"
      ]
    },
    {
      "cell_type": "code",
      "execution_count": null,
      "metadata": {
        "id": "4zL8iIPZ3f5I"
      },
      "outputs": [],
      "source": [
        "if cuda_available:\n",
        "  import tensorflow as tf\n",
        "  # Get the GPU device name.\n",
        "  device_name = tf.test.gpu_device_name()\n",
        "  # The device name should look like the following:\n",
        "  if device_name == '/device:GPU:0':\n",
        "      print('Found GPU at: {}'.format(device_name))\n",
        "  else:\n",
        "      raise SystemError('GPU device not found')"
      ]
    },
    {
      "cell_type": "code",
      "execution_count": null,
      "metadata": {
        "colab": {
          "base_uri": "https://localhost:8080/"
        },
        "id": "6MWC6jV16zt6",
        "outputId": "bc997f08-0d71-481c-d656-aab5a0bd83d0"
      },
      "outputs": [
        {
          "output_type": "stream",
          "name": "stdout",
          "text": [
            "Fetching https://raw.githubusercontent.com/Perez-AlmendrosC/dontpatronizeme/master/semeval-2022/dont_patronize_me.py\n"
          ]
        }
      ],
      "source": [
        "module_url = f\"https://raw.githubusercontent.com/Perez-AlmendrosC/dontpatronizeme/master/semeval-2022/dont_patronize_me.py\"\n",
        "module_name = module_url.split('/')[-1]\n",
        "print(f'Fetching {module_url}')\n",
        "#with open(\"file_1.txt\") as f1, open(\"file_2.txt\") as f2\n",
        "with request.urlopen(module_url) as f, open(module_name,'w') as outf:\n",
        "  a = f.read()\n",
        "  outf.write(a.decode('utf-8'))"
      ]
    },
    {
      "cell_type": "markdown",
      "metadata": {
        "id": "pw4hx5VU6x0f"
      },
      "source": [
        "### The official scorer\n",
        "\n",
        "The script `evaluation.py` can also be obtained by running the cell below:"
      ]
    },
    {
      "cell_type": "code",
      "execution_count": null,
      "metadata": {
        "colab": {
          "base_uri": "https://localhost:8080/"
        },
        "id": "VrDVHr6SAv0I",
        "outputId": "5748b55f-e707-4fd8-f388-8f53ce33a673"
      },
      "outputs": [
        {
          "output_type": "stream",
          "name": "stdout",
          "text": [
            "Fetching https://raw.githubusercontent.com/Perez-AlmendrosC/dontpatronizeme/master/semeval-2022/evaluation.py\n"
          ]
        }
      ],
      "source": [
        "module_url = f\"https://raw.githubusercontent.com/Perez-AlmendrosC/dontpatronizeme/master/semeval-2022/evaluation.py\"\n",
        "module_name = module_url.split('/')[-1]\n",
        "print(f'Fetching {module_url}')\n",
        "#with open(\"file_1.txt\") as f1, open(\"file_2.txt\") as f2\n",
        "with request.urlopen(module_url) as f, open(module_name,'w') as outf:\n",
        "  a = f.read()\n",
        "  outf.write(a.decode('utf-8'))"
      ]
    },
    {
      "cell_type": "markdown",
      "metadata": {
        "id": "fXfGGCr2B2NY"
      },
      "source": [
        "At this point, your left pane on Google Colab should look like this:\n",
        "\n",
        "![Screenshot from 2021-09-27 17-13-06.png](data:image/png;base64,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)"
      ]
    },
    {
      "cell_type": "code",
      "execution_count": null,
      "metadata": {
        "id": "uGXgQ5c1TGj9"
      },
      "outputs": [],
      "source": [
        "from dont_patronize_me import DontPatronizeMe\n",
        "# Initialize a dpm (Don't Patronize Me) object.\n",
        "# It takes two areguments as input: \n",
        "# (1) Path to the directory containing the training set files, which is the root directory of this notebook.\n",
        "# (2) Path to the test set, which will be released when the evaluation phase begins. In this example, \n",
        "# we use the dataset for Subtask 1, which the code will load without labels.\n",
        "\n",
        "#Use this if running on colab\n",
        "dpm = DontPatronizeMe('/content/drive/MyDrive/NLPClassification_40-master', None)\n",
        "\n",
        "#Use this if not running on colab\n",
        "# dpm = DontPatronizeMe('.', 'dontpatronizeme_pcl.tsv')"
      ]
    },
    {
      "cell_type": "markdown",
      "metadata": {
        "id": "zxkWFeZR8liD"
      },
      "source": [
        "## 2.2. Load Subtask 1 data\n",
        "\n",
        "Note that the original dataset contains fine-grained tags (0 to 4, both inclusive). The interface we provide collapses them into binary labels, which is the labeling we use for the task."
      ]
    },
    {
      "cell_type": "code",
      "execution_count": null,
      "metadata": {
        "colab": {
          "base_uri": "https://localhost:8080/",
          "height": 206
        },
        "id": "xBNfZFPq6VgX",
        "outputId": "ab99e6a0-1f5b-4903-fd93-e59c3e0da21c"
      },
      "outputs": [
        {
          "output_type": "execute_result",
          "data": {
            "text/plain": [
              "  par_id      art_id    keyword country  \\\n",
              "0      1  @@24942188   hopeless      ph   \n",
              "1      2  @@21968160    migrant      gh   \n",
              "2      3  @@16584954  immigrant      ie   \n",
              "3      4   @@7811231   disabled      nz   \n",
              "4      5   @@1494111    refugee      ca   \n",
              "\n",
              "                                                text  label orig_label  \n",
              "0  We 're living in times of absolute insanity , ...      0          0  \n",
              "1  In Libya today , there are countless number of...      0          0  \n",
              "2  \"White House press secretary Sean Spicer said ...      0          0  \n",
              "3  Council customers only signs would be displaye...      0          0  \n",
              "4  \"\"\" Just like we received migrants fleeing El ...      0          0  "
            ],
            "text/html": [
              "\n",
              "  <div id=\"df-26425b03-4857-4500-b17b-abc728ab63bc\">\n",
              "    <div class=\"colab-df-container\">\n",
              "      <div>\n",
              "<style scoped>\n",
              "    .dataframe tbody tr th:only-of-type {\n",
              "        vertical-align: middle;\n",
              "    }\n",
              "\n",
              "    .dataframe tbody tr th {\n",
              "        vertical-align: top;\n",
              "    }\n",
              "\n",
              "    .dataframe thead th {\n",
              "        text-align: right;\n",
              "    }\n",
              "</style>\n",
              "<table border=\"1\" class=\"dataframe\">\n",
              "  <thead>\n",
              "    <tr style=\"text-align: right;\">\n",
              "      <th></th>\n",
              "      <th>par_id</th>\n",
              "      <th>art_id</th>\n",
              "      <th>keyword</th>\n",
              "      <th>country</th>\n",
              "      <th>text</th>\n",
              "      <th>label</th>\n",
              "      <th>orig_label</th>\n",
              "    </tr>\n",
              "  </thead>\n",
              "  <tbody>\n",
              "    <tr>\n",
              "      <th>0</th>\n",
              "      <td>1</td>\n",
              "      <td>@@24942188</td>\n",
              "      <td>hopeless</td>\n",
              "      <td>ph</td>\n",
              "      <td>We 're living in times of absolute insanity , ...</td>\n",
              "      <td>0</td>\n",
              "      <td>0</td>\n",
              "    </tr>\n",
              "    <tr>\n",
              "      <th>1</th>\n",
              "      <td>2</td>\n",
              "      <td>@@21968160</td>\n",
              "      <td>migrant</td>\n",
              "      <td>gh</td>\n",
              "      <td>In Libya today , there are countless number of...</td>\n",
              "      <td>0</td>\n",
              "      <td>0</td>\n",
              "    </tr>\n",
              "    <tr>\n",
              "      <th>2</th>\n",
              "      <td>3</td>\n",
              "      <td>@@16584954</td>\n",
              "      <td>immigrant</td>\n",
              "      <td>ie</td>\n",
              "      <td>\"White House press secretary Sean Spicer said ...</td>\n",
              "      <td>0</td>\n",
              "      <td>0</td>\n",
              "    </tr>\n",
              "    <tr>\n",
              "      <th>3</th>\n",
              "      <td>4</td>\n",
              "      <td>@@7811231</td>\n",
              "      <td>disabled</td>\n",
              "      <td>nz</td>\n",
              "      <td>Council customers only signs would be displaye...</td>\n",
              "      <td>0</td>\n",
              "      <td>0</td>\n",
              "    </tr>\n",
              "    <tr>\n",
              "      <th>4</th>\n",
              "      <td>5</td>\n",
              "      <td>@@1494111</td>\n",
              "      <td>refugee</td>\n",
              "      <td>ca</td>\n",
              "      <td>\"\"\" Just like we received migrants fleeing El ...</td>\n",
              "      <td>0</td>\n",
              "      <td>0</td>\n",
              "    </tr>\n",
              "  </tbody>\n",
              "</table>\n",
              "</div>\n",
              "      <button class=\"colab-df-convert\" onclick=\"convertToInteractive('df-26425b03-4857-4500-b17b-abc728ab63bc')\"\n",
              "              title=\"Convert this dataframe to an interactive table.\"\n",
              "              style=\"display:none;\">\n",
              "        \n",
              "  <svg xmlns=\"http://www.w3.org/2000/svg\" height=\"24px\"viewBox=\"0 0 24 24\"\n",
              "       width=\"24px\">\n",
              "    <path d=\"M0 0h24v24H0V0z\" fill=\"none\"/>\n",
              "    <path d=\"M18.56 5.44l.94 2.06.94-2.06 2.06-.94-2.06-.94-.94-2.06-.94 2.06-2.06.94zm-11 1L8.5 8.5l.94-2.06 2.06-.94-2.06-.94L8.5 2.5l-.94 2.06-2.06.94zm10 10l.94 2.06.94-2.06 2.06-.94-2.06-.94-.94-2.06-.94 2.06-2.06.94z\"/><path d=\"M17.41 7.96l-1.37-1.37c-.4-.4-.92-.59-1.43-.59-.52 0-1.04.2-1.43.59L10.3 9.45l-7.72 7.72c-.78.78-.78 2.05 0 2.83L4 21.41c.39.39.9.59 1.41.59.51 0 1.02-.2 1.41-.59l7.78-7.78 2.81-2.81c.8-.78.8-2.07 0-2.86zM5.41 20L4 18.59l7.72-7.72 1.47 1.35L5.41 20z\"/>\n",
              "  </svg>\n",
              "      </button>\n",
              "      \n",
              "  <style>\n",
              "    .colab-df-container {\n",
              "      display:flex;\n",
              "      flex-wrap:wrap;\n",
              "      gap: 12px;\n",
              "    }\n",
              "\n",
              "    .colab-df-convert {\n",
              "      background-color: #E8F0FE;\n",
              "      border: none;\n",
              "      border-radius: 50%;\n",
              "      cursor: pointer;\n",
              "      display: none;\n",
              "      fill: #1967D2;\n",
              "      height: 32px;\n",
              "      padding: 0 0 0 0;\n",
              "      width: 32px;\n",
              "    }\n",
              "\n",
              "    .colab-df-convert:hover {\n",
              "      background-color: #E2EBFA;\n",
              "      box-shadow: 0px 1px 2px rgba(60, 64, 67, 0.3), 0px 1px 3px 1px rgba(60, 64, 67, 0.15);\n",
              "      fill: #174EA6;\n",
              "    }\n",
              "\n",
              "    [theme=dark] .colab-df-convert {\n",
              "      background-color: #3B4455;\n",
              "      fill: #D2E3FC;\n",
              "    }\n",
              "\n",
              "    [theme=dark] .colab-df-convert:hover {\n",
              "      background-color: #434B5C;\n",
              "      box-shadow: 0px 1px 3px 1px rgba(0, 0, 0, 0.15);\n",
              "      filter: drop-shadow(0px 1px 2px rgba(0, 0, 0, 0.3));\n",
              "      fill: #FFFFFF;\n",
              "    }\n",
              "  </style>\n",
              "\n",
              "      <script>\n",
              "        const buttonEl =\n",
              "          document.querySelector('#df-26425b03-4857-4500-b17b-abc728ab63bc button.colab-df-convert');\n",
              "        buttonEl.style.display =\n",
              "          google.colab.kernel.accessAllowed ? 'block' : 'none';\n",
              "\n",
              "        async function convertToInteractive(key) {\n",
              "          const element = document.querySelector('#df-26425b03-4857-4500-b17b-abc728ab63bc');\n",
              "          const dataTable =\n",
              "            await google.colab.kernel.invokeFunction('convertToInteractive',\n",
              "                                                     [key], {});\n",
              "          if (!dataTable) return;\n",
              "\n",
              "          const docLinkHtml = 'Like what you see? Visit the ' +\n",
              "            '<a target=\"_blank\" href=https://colab.research.google.com/notebooks/data_table.ipynb>data table notebook</a>'\n",
              "            + ' to learn more about interactive tables.';\n",
              "          element.innerHTML = '';\n",
              "          dataTable['output_type'] = 'display_data';\n",
              "          await google.colab.output.renderOutput(dataTable, element);\n",
              "          const docLink = document.createElement('div');\n",
              "          docLink.innerHTML = docLinkHtml;\n",
              "          element.appendChild(docLink);\n",
              "        }\n",
              "      </script>\n",
              "    </div>\n",
              "  </div>\n",
              "  "
            ]
          },
          "metadata": {},
          "execution_count": 11
        }
      ],
      "source": [
        "# This method loads the subtask 1 data\n",
        "dpm.load_task1()\n",
        "# which we can then access as a dataframe\n",
        "train_df=dpm.train_task1_df\n",
        "train_df.head()"
      ]
    },
    {
      "cell_type": "markdown",
      "metadata": {
        "id": "bu1alZCJ0plM"
      },
      "source": [
        "Subtask 1: Binary classification. Given a paragraph, a system must predict whether or not it contains any form of PCL. \n"
      ]
    },
    {
      "cell_type": "markdown",
      "metadata": {
        "id": "IGwf7NTB0plN"
      },
      "source": [
        "# 3. Data analysis"
      ]
    },
    {
      "cell_type": "code",
      "execution_count": null,
      "metadata": {
        "id": "ouBCbH4c0plO",
        "outputId": "0da81251-9d8e-499c-8fa8-8dfeb8ac05cb",
        "colab": {
          "base_uri": "https://localhost:8080/"
        }
      },
      "outputs": [
        {
          "output_type": "stream",
          "name": "stdout",
          "text": [
            "The lenght of the training set is 10469\n"
          ]
        }
      ],
      "source": [
        "# Get length of the training set\n",
        "lenght=len(train_df)\n",
        "print(f'The lenght of the training set is {lenght}')"
      ]
    },
    {
      "cell_type": "code",
      "execution_count": null,
      "metadata": {
        "id": "plCowVBD0plO",
        "outputId": "377c9156-d8ea-42a8-90a1-44c64f177f93",
        "colab": {
          "base_uri": "https://localhost:8080/"
        }
      },
      "outputs": [
        {
          "output_type": "stream",
          "name": "stdout",
          "text": [
            "The number of examples with label 0 is 9476\n",
            "The number of examples with label 1 is 993\n"
          ]
        }
      ],
      "source": [
        "train_df['label'].value_counts()\n",
        "print(f'The number of examples with label 0 is {train_df[\"label\"].value_counts()[0]}')\n",
        "print(f'The number of examples with label 1 is {train_df[\"label\"].value_counts()[1]}')"
      ]
    },
    {
      "cell_type": "code",
      "execution_count": null,
      "metadata": {
        "id": "KLBGoxeP0plP",
        "outputId": "84dd4703-bafa-40e8-8bd9-1aba489e5133",
        "colab": {
          "base_uri": "https://localhost:8080/"
        }
      },
      "outputs": [
        {
          "output_type": "stream",
          "name": "stdout",
          "text": [
            "The number of examples with label 0 is 8529\n",
            "The number of examples with label 1 is 947\n",
            "The number of examples with label 2 is 458\n",
            "The number of examples with label 3 is 391\n",
            "The number of examples with label 4 is 144\n",
            "Labels 0 and 1 are combined to form binary label 0 -> Not patronizing\n",
            "Labels 2, 3, and 4 are combined to form binary label 1 -> Patronizing\n"
          ]
        }
      ],
      "source": [
        "train_df['orig_label'].value_counts()\n",
        "print(f'The number of examples with label 0 is {train_df[\"orig_label\"].value_counts()[0]}')\n",
        "print(f'The number of examples with label 1 is {train_df[\"orig_label\"].value_counts()[1]}')\n",
        "print(f'The number of examples with label 2 is {train_df[\"orig_label\"].value_counts()[2]}')\n",
        "print(f'The number of examples with label 3 is {train_df[\"orig_label\"].value_counts()[3]}')\n",
        "print(  f'The number of examples with label 4 is {train_df[\"orig_label\"].value_counts()[4]}')\n",
        "print(f'Labels 0 and 1 are combined to form binary label 0 -> Not patronizing')\n",
        "print(f'Labels 2, 3, and 4 are combined to form binary label 1 -> Patronizing')"
      ]
    },
    {
      "cell_type": "code",
      "execution_count": null,
      "metadata": {
        "id": "4R1LNlTP0plQ",
        "outputId": "c45d7496-ee1b-45d3-ed48-3786f5bf425b",
        "colab": {
          "base_uri": "https://localhost:8080/"
        }
      },
      "outputs": [
        {
          "output_type": "execute_result",
          "data": {
            "text/plain": [
              "migrant          1089\n",
              "in-need          1082\n",
              "vulnerable       1080\n",
              "homeless         1077\n",
              "women            1070\n",
              "refugee          1068\n",
              "immigrant        1061\n",
              "disabled         1028\n",
              "hopeless         1005\n",
              "poor-families     909\n",
              "Name: keyword, dtype: int64"
            ]
          },
          "metadata": {},
          "execution_count": 15
        }
      ],
      "source": [
        "train_df['keyword'].value_counts()"
      ]
    },
    {
      "cell_type": "markdown",
      "metadata": {
        "id": "MZLDxCKR0plQ"
      },
      "source": [
        "## 1.1. How frequent are the class labels?"
      ]
    },
    {
      "cell_type": "code",
      "execution_count": null,
      "metadata": {
        "id": "w4tbPaF40plQ",
        "outputId": "1bff1c85-fa54-4605-d623-910558269d2a",
        "colab": {
          "base_uri": "https://localhost:8080/",
          "height": 206
        }
      },
      "outputs": [
        {
          "output_type": "execute_result",
          "data": {
            "text/plain": [
              "  label  count  percentage\n",
              "0     0   8529       81.47\n",
              "1     1    947        9.05\n",
              "2     3    458        4.37\n",
              "3     4    391        3.73\n",
              "4     2    144        1.38"
            ],
            "text/html": [
              "\n",
              "  <div id=\"df-d8e918f9-a110-4338-bceb-3a23425a592c\">\n",
              "    <div class=\"colab-df-container\">\n",
              "      <div>\n",
              "<style scoped>\n",
              "    .dataframe tbody tr th:only-of-type {\n",
              "        vertical-align: middle;\n",
              "    }\n",
              "\n",
              "    .dataframe tbody tr th {\n",
              "        vertical-align: top;\n",
              "    }\n",
              "\n",
              "    .dataframe thead th {\n",
              "        text-align: right;\n",
              "    }\n",
              "</style>\n",
              "<table border=\"1\" class=\"dataframe\">\n",
              "  <thead>\n",
              "    <tr style=\"text-align: right;\">\n",
              "      <th></th>\n",
              "      <th>label</th>\n",
              "      <th>count</th>\n",
              "      <th>percentage</th>\n",
              "    </tr>\n",
              "  </thead>\n",
              "  <tbody>\n",
              "    <tr>\n",
              "      <th>0</th>\n",
              "      <td>0</td>\n",
              "      <td>8529</td>\n",
              "      <td>81.47</td>\n",
              "    </tr>\n",
              "    <tr>\n",
              "      <th>1</th>\n",
              "      <td>1</td>\n",
              "      <td>947</td>\n",
              "      <td>9.05</td>\n",
              "    </tr>\n",
              "    <tr>\n",
              "      <th>2</th>\n",
              "      <td>3</td>\n",
              "      <td>458</td>\n",
              "      <td>4.37</td>\n",
              "    </tr>\n",
              "    <tr>\n",
              "      <th>3</th>\n",
              "      <td>4</td>\n",
              "      <td>391</td>\n",
              "      <td>3.73</td>\n",
              "    </tr>\n",
              "    <tr>\n",
              "      <th>4</th>\n",
              "      <td>2</td>\n",
              "      <td>144</td>\n",
              "      <td>1.38</td>\n",
              "    </tr>\n",
              "  </tbody>\n",
              "</table>\n",
              "</div>\n",
              "      <button class=\"colab-df-convert\" onclick=\"convertToInteractive('df-d8e918f9-a110-4338-bceb-3a23425a592c')\"\n",
              "              title=\"Convert this dataframe to an interactive table.\"\n",
              "              style=\"display:none;\">\n",
              "        \n",
              "  <svg xmlns=\"http://www.w3.org/2000/svg\" height=\"24px\"viewBox=\"0 0 24 24\"\n",
              "       width=\"24px\">\n",
              "    <path d=\"M0 0h24v24H0V0z\" fill=\"none\"/>\n",
              "    <path d=\"M18.56 5.44l.94 2.06.94-2.06 2.06-.94-2.06-.94-.94-2.06-.94 2.06-2.06.94zm-11 1L8.5 8.5l.94-2.06 2.06-.94-2.06-.94L8.5 2.5l-.94 2.06-2.06.94zm10 10l.94 2.06.94-2.06 2.06-.94-2.06-.94-.94-2.06-.94 2.06-2.06.94z\"/><path d=\"M17.41 7.96l-1.37-1.37c-.4-.4-.92-.59-1.43-.59-.52 0-1.04.2-1.43.59L10.3 9.45l-7.72 7.72c-.78.78-.78 2.05 0 2.83L4 21.41c.39.39.9.59 1.41.59.51 0 1.02-.2 1.41-.59l7.78-7.78 2.81-2.81c.8-.78.8-2.07 0-2.86zM5.41 20L4 18.59l7.72-7.72 1.47 1.35L5.41 20z\"/>\n",
              "  </svg>\n",
              "      </button>\n",
              "      \n",
              "  <style>\n",
              "    .colab-df-container {\n",
              "      display:flex;\n",
              "      flex-wrap:wrap;\n",
              "      gap: 12px;\n",
              "    }\n",
              "\n",
              "    .colab-df-convert {\n",
              "      background-color: #E8F0FE;\n",
              "      border: none;\n",
              "      border-radius: 50%;\n",
              "      cursor: pointer;\n",
              "      display: none;\n",
              "      fill: #1967D2;\n",
              "      height: 32px;\n",
              "      padding: 0 0 0 0;\n",
              "      width: 32px;\n",
              "    }\n",
              "\n",
              "    .colab-df-convert:hover {\n",
              "      background-color: #E2EBFA;\n",
              "      box-shadow: 0px 1px 2px rgba(60, 64, 67, 0.3), 0px 1px 3px 1px rgba(60, 64, 67, 0.15);\n",
              "      fill: #174EA6;\n",
              "    }\n",
              "\n",
              "    [theme=dark] .colab-df-convert {\n",
              "      background-color: #3B4455;\n",
              "      fill: #D2E3FC;\n",
              "    }\n",
              "\n",
              "    [theme=dark] .colab-df-convert:hover {\n",
              "      background-color: #434B5C;\n",
              "      box-shadow: 0px 1px 3px 1px rgba(0, 0, 0, 0.15);\n",
              "      filter: drop-shadow(0px 1px 2px rgba(0, 0, 0, 0.3));\n",
              "      fill: #FFFFFF;\n",
              "    }\n",
              "  </style>\n",
              "\n",
              "      <script>\n",
              "        const buttonEl =\n",
              "          document.querySelector('#df-d8e918f9-a110-4338-bceb-3a23425a592c button.colab-df-convert');\n",
              "        buttonEl.style.display =\n",
              "          google.colab.kernel.accessAllowed ? 'block' : 'none';\n",
              "\n",
              "        async function convertToInteractive(key) {\n",
              "          const element = document.querySelector('#df-d8e918f9-a110-4338-bceb-3a23425a592c');\n",
              "          const dataTable =\n",
              "            await google.colab.kernel.invokeFunction('convertToInteractive',\n",
              "                                                     [key], {});\n",
              "          if (!dataTable) return;\n",
              "\n",
              "          const docLinkHtml = 'Like what you see? Visit the ' +\n",
              "            '<a target=\"_blank\" href=https://colab.research.google.com/notebooks/data_table.ipynb>data table notebook</a>'\n",
              "            + ' to learn more about interactive tables.';\n",
              "          element.innerHTML = '';\n",
              "          dataTable['output_type'] = 'display_data';\n",
              "          await google.colab.output.renderOutput(dataTable, element);\n",
              "          const docLink = document.createElement('div');\n",
              "          docLink.innerHTML = docLinkHtml;\n",
              "          element.appendChild(docLink);\n",
              "        }\n",
              "      </script>\n",
              "    </div>\n",
              "  </div>\n",
              "  "
            ]
          },
          "metadata": {},
          "execution_count": 16
        }
      ],
      "source": [
        "# Get the number of class labels in the training set and place them in a pandas dataframe. Calculate percentage of each class label in the training set.\n",
        "import pandas as pd\n",
        "labels = train_df['orig_label'].value_counts()\n",
        "labels = pd.DataFrame(labels)\n",
        "labels = labels.reset_index()\n",
        "labels.columns = ['label', 'count']\n",
        "labels['percentage'] = round(((labels['count']/labels['count'].sum())*100),2)\n",
        "labels\n"
      ]
    },
    {
      "cell_type": "code",
      "execution_count": null,
      "metadata": {
        "id": "wpGyjOjn0plR",
        "outputId": "fcb921e9-32fa-492a-d2de-d0b8ac0ba223",
        "colab": {
          "base_uri": "https://localhost:8080/",
          "height": 424
        }
      },
      "outputs": [
        {
          "output_type": "execute_result",
          "data": {
            "text/plain": [
              "      par_id                  label\n",
              "0       4341  [1, 0, 0, 1, 0, 0, 0]\n",
              "1       4136  [0, 1, 0, 0, 0, 0, 0]\n",
              "2      10352  [1, 0, 0, 0, 0, 1, 0]\n",
              "3       8279  [0, 0, 0, 1, 0, 0, 0]\n",
              "4       1164  [1, 0, 0, 1, 1, 1, 0]\n",
              "...      ...                    ...\n",
              "8370    8380  [0, 0, 0, 0, 0, 0, 0]\n",
              "8371    8381  [0, 0, 0, 0, 0, 0, 0]\n",
              "8372    8382  [0, 0, 0, 0, 0, 0, 0]\n",
              "8373    8383  [0, 0, 0, 0, 0, 0, 0]\n",
              "8374    8384  [0, 0, 0, 0, 0, 0, 0]\n",
              "\n",
              "[8375 rows x 2 columns]"
            ],
            "text/html": [
              "\n",
              "  <div id=\"df-e00508eb-21bb-4b7c-8a66-e138a112fb3a\">\n",
              "    <div class=\"colab-df-container\">\n",
              "      <div>\n",
              "<style scoped>\n",
              "    .dataframe tbody tr th:only-of-type {\n",
              "        vertical-align: middle;\n",
              "    }\n",
              "\n",
              "    .dataframe tbody tr th {\n",
              "        vertical-align: top;\n",
              "    }\n",
              "\n",
              "    .dataframe thead th {\n",
              "        text-align: right;\n",
              "    }\n",
              "</style>\n",
              "<table border=\"1\" class=\"dataframe\">\n",
              "  <thead>\n",
              "    <tr style=\"text-align: right;\">\n",
              "      <th></th>\n",
              "      <th>par_id</th>\n",
              "      <th>label</th>\n",
              "    </tr>\n",
              "  </thead>\n",
              "  <tbody>\n",
              "    <tr>\n",
              "      <th>0</th>\n",
              "      <td>4341</td>\n",
              "      <td>[1, 0, 0, 1, 0, 0, 0]</td>\n",
              "    </tr>\n",
              "    <tr>\n",
              "      <th>1</th>\n",
              "      <td>4136</td>\n",
              "      <td>[0, 1, 0, 0, 0, 0, 0]</td>\n",
              "    </tr>\n",
              "    <tr>\n",
              "      <th>2</th>\n",
              "      <td>10352</td>\n",
              "      <td>[1, 0, 0, 0, 0, 1, 0]</td>\n",
              "    </tr>\n",
              "    <tr>\n",
              "      <th>3</th>\n",
              "      <td>8279</td>\n",
              "      <td>[0, 0, 0, 1, 0, 0, 0]</td>\n",
              "    </tr>\n",
              "    <tr>\n",
              "      <th>4</th>\n",
              "      <td>1164</td>\n",
              "      <td>[1, 0, 0, 1, 1, 1, 0]</td>\n",
              "    </tr>\n",
              "    <tr>\n",
              "      <th>...</th>\n",
              "      <td>...</td>\n",
              "      <td>...</td>\n",
              "    </tr>\n",
              "    <tr>\n",
              "      <th>8370</th>\n",
              "      <td>8380</td>\n",
              "      <td>[0, 0, 0, 0, 0, 0, 0]</td>\n",
              "    </tr>\n",
              "    <tr>\n",
              "      <th>8371</th>\n",
              "      <td>8381</td>\n",
              "      <td>[0, 0, 0, 0, 0, 0, 0]</td>\n",
              "    </tr>\n",
              "    <tr>\n",
              "      <th>8372</th>\n",
              "      <td>8382</td>\n",
              "      <td>[0, 0, 0, 0, 0, 0, 0]</td>\n",
              "    </tr>\n",
              "    <tr>\n",
              "      <th>8373</th>\n",
              "      <td>8383</td>\n",
              "      <td>[0, 0, 0, 0, 0, 0, 0]</td>\n",
              "    </tr>\n",
              "    <tr>\n",
              "      <th>8374</th>\n",
              "      <td>8384</td>\n",
              "      <td>[0, 0, 0, 0, 0, 0, 0]</td>\n",
              "    </tr>\n",
              "  </tbody>\n",
              "</table>\n",
              "<p>8375 rows × 2 columns</p>\n",
              "</div>\n",
              "      <button class=\"colab-df-convert\" onclick=\"convertToInteractive('df-e00508eb-21bb-4b7c-8a66-e138a112fb3a')\"\n",
              "              title=\"Convert this dataframe to an interactive table.\"\n",
              "              style=\"display:none;\">\n",
              "        \n",
              "  <svg xmlns=\"http://www.w3.org/2000/svg\" height=\"24px\"viewBox=\"0 0 24 24\"\n",
              "       width=\"24px\">\n",
              "    <path d=\"M0 0h24v24H0V0z\" fill=\"none\"/>\n",
              "    <path d=\"M18.56 5.44l.94 2.06.94-2.06 2.06-.94-2.06-.94-.94-2.06-.94 2.06-2.06.94zm-11 1L8.5 8.5l.94-2.06 2.06-.94-2.06-.94L8.5 2.5l-.94 2.06-2.06.94zm10 10l.94 2.06.94-2.06 2.06-.94-2.06-.94-.94-2.06-.94 2.06-2.06.94z\"/><path d=\"M17.41 7.96l-1.37-1.37c-.4-.4-.92-.59-1.43-.59-.52 0-1.04.2-1.43.59L10.3 9.45l-7.72 7.72c-.78.78-.78 2.05 0 2.83L4 21.41c.39.39.9.59 1.41.59.51 0 1.02-.2 1.41-.59l7.78-7.78 2.81-2.81c.8-.78.8-2.07 0-2.86zM5.41 20L4 18.59l7.72-7.72 1.47 1.35L5.41 20z\"/>\n",
              "  </svg>\n",
              "      </button>\n",
              "      \n",
              "  <style>\n",
              "    .colab-df-container {\n",
              "      display:flex;\n",
              "      flex-wrap:wrap;\n",
              "      gap: 12px;\n",
              "    }\n",
              "\n",
              "    .colab-df-convert {\n",
              "      background-color: #E8F0FE;\n",
              "      border: none;\n",
              "      border-radius: 50%;\n",
              "      cursor: pointer;\n",
              "      display: none;\n",
              "      fill: #1967D2;\n",
              "      height: 32px;\n",
              "      padding: 0 0 0 0;\n",
              "      width: 32px;\n",
              "    }\n",
              "\n",
              "    .colab-df-convert:hover {\n",
              "      background-color: #E2EBFA;\n",
              "      box-shadow: 0px 1px 2px rgba(60, 64, 67, 0.3), 0px 1px 3px 1px rgba(60, 64, 67, 0.15);\n",
              "      fill: #174EA6;\n",
              "    }\n",
              "\n",
              "    [theme=dark] .colab-df-convert {\n",
              "      background-color: #3B4455;\n",
              "      fill: #D2E3FC;\n",
              "    }\n",
              "\n",
              "    [theme=dark] .colab-df-convert:hover {\n",
              "      background-color: #434B5C;\n",
              "      box-shadow: 0px 1px 3px 1px rgba(0, 0, 0, 0.15);\n",
              "      filter: drop-shadow(0px 1px 2px rgba(0, 0, 0, 0.3));\n",
              "      fill: #FFFFFF;\n",
              "    }\n",
              "  </style>\n",
              "\n",
              "      <script>\n",
              "        const buttonEl =\n",
              "          document.querySelector('#df-e00508eb-21bb-4b7c-8a66-e138a112fb3a button.colab-df-convert');\n",
              "        buttonEl.style.display =\n",
              "          google.colab.kernel.accessAllowed ? 'block' : 'none';\n",
              "\n",
              "        async function convertToInteractive(key) {\n",
              "          const element = document.querySelector('#df-e00508eb-21bb-4b7c-8a66-e138a112fb3a');\n",
              "          const dataTable =\n",
              "            await google.colab.kernel.invokeFunction('convertToInteractive',\n",
              "                                                     [key], {});\n",
              "          if (!dataTable) return;\n",
              "\n",
              "          const docLinkHtml = 'Like what you see? Visit the ' +\n",
              "            '<a target=\"_blank\" href=https://colab.research.google.com/notebooks/data_table.ipynb>data table notebook</a>'\n",
              "            + ' to learn more about interactive tables.';\n",
              "          element.innerHTML = '';\n",
              "          dataTable['output_type'] = 'display_data';\n",
              "          await google.colab.output.renderOutput(dataTable, element);\n",
              "          const docLink = document.createElement('div');\n",
              "          docLink.innerHTML = docLinkHtml;\n",
              "          element.appendChild(docLink);\n",
              "        }\n",
              "      </script>\n",
              "    </div>\n",
              "  </div>\n",
              "  "
            ]
          },
          "metadata": {},
          "execution_count": 17
        }
      ],
      "source": [
        "# Load the train and test set\n",
        "train_ids = pd.read_csv('/content/drive/MyDrive/NLPClassification_40-master/train_semeval_parids-labels.csv')\n",
        "test_ids = pd.read_csv('/content/drive/MyDrive/NLPClassification_40-master/dev_semeval_parids-labels.csv')\n",
        "train_ids"
      ]
    },
    {
      "cell_type": "markdown",
      "metadata": {
        "id": "lQlRfNF50plS"
      },
      "source": [
        "### 3.1 .Understand correlation between features"
      ]
    },
    {
      "cell_type": "code",
      "execution_count": null,
      "metadata": {
        "id": "V_eiGJFp0plS",
        "outputId": "d737014d-9a96-4b1f-fadf-2b88f304a50d",
        "colab": {
          "base_uri": "https://localhost:8080/",
          "height": 535
        }
      },
      "outputs": [
        {
          "output_type": "display_data",
          "data": {
            "text/plain": [
              "<Figure size 720x576 with 1 Axes>"
            ],
            "image/png": "[encoded data removed]"
          },
          "metadata": {}
        }
      ],
      "source": [
        "# Show the correlation between the class labels and text length\n",
        "import matplotlib.pyplot as plt\n",
        "import seaborn as sns\n",
        "sns.set_style('whitegrid')\n",
        "sns.set(font_scale=1.5)\n",
        "plt.figure(figsize=(10, 8))\n",
        "sns.barplot(x='label', y='count', data=labels)\n",
        "plt.title('Number of examples per class label')\n",
        "plt.xlabel('Class label')\n",
        "plt.ylabel('Number of examples')\n",
        "plt.show()\n"
      ]
    },
    {
      "cell_type": "code",
      "execution_count": null,
      "metadata": {
        "id": "Z-Gt7yjK0plS",
        "outputId": "0ae3d079-ccf5-41ad-c80c-40fe98c98a7f",
        "colab": {
          "base_uri": "https://localhost:8080/",
          "height": 206
        }
      },
      "outputs": [
        {
          "output_type": "execute_result",
          "data": {
            "text/plain": [
              "  par_id      art_id    keyword country  \\\n",
              "0      1  @@24942188   hopeless      ph   \n",
              "1      2  @@21968160    migrant      gh   \n",
              "2      3  @@16584954  immigrant      ie   \n",
              "3      4   @@7811231   disabled      nz   \n",
              "4      5   @@1494111    refugee      ca   \n",
              "\n",
              "                                                text  label orig_label  \\\n",
              "0  We 're living in times of absolute insanity , ...      0          0   \n",
              "1  In Libya today , there are countless number of...      0          0   \n",
              "2  \"White House press secretary Sean Spicer said ...      0          0   \n",
              "3  Council customers only signs would be displaye...      0          0   \n",
              "4  \"\"\" Just like we received migrants fleeing El ...      0          0   \n",
              "\n",
              "   text_length  \n",
              "0          620  \n",
              "1          237  \n",
              "2          162  \n",
              "3          162  \n",
              "4          277  "
            ],
            "text/html": [
              "\n",
              "  <div id=\"df-6c852f35-4e5e-4ea1-8cac-f19a5b585f05\">\n",
              "    <div class=\"colab-df-container\">\n",
              "      <div>\n",
              "<style scoped>\n",
              "    .dataframe tbody tr th:only-of-type {\n",
              "        vertical-align: middle;\n",
              "    }\n",
              "\n",
              "    .dataframe tbody tr th {\n",
              "        vertical-align: top;\n",
              "    }\n",
              "\n",
              "    .dataframe thead th {\n",
              "        text-align: right;\n",
              "    }\n",
              "</style>\n",
              "<table border=\"1\" class=\"dataframe\">\n",
              "  <thead>\n",
              "    <tr style=\"text-align: right;\">\n",
              "      <th></th>\n",
              "      <th>par_id</th>\n",
              "      <th>art_id</th>\n",
              "      <th>keyword</th>\n",
              "      <th>country</th>\n",
              "      <th>text</th>\n",
              "      <th>label</th>\n",
              "      <th>orig_label</th>\n",
              "      <th>text_length</th>\n",
              "    </tr>\n",
              "  </thead>\n",
              "  <tbody>\n",
              "    <tr>\n",
              "      <th>0</th>\n",
              "      <td>1</td>\n",
              "      <td>@@24942188</td>\n",
              "      <td>hopeless</td>\n",
              "      <td>ph</td>\n",
              "      <td>We 're living in times of absolute insanity , ...</td>\n",
              "      <td>0</td>\n",
              "      <td>0</td>\n",
              "      <td>620</td>\n",
              "    </tr>\n",
              "    <tr>\n",
              "      <th>1</th>\n",
              "      <td>2</td>\n",
              "      <td>@@21968160</td>\n",
              "      <td>migrant</td>\n",
              "      <td>gh</td>\n",
              "      <td>In Libya today , there are countless number of...</td>\n",
              "      <td>0</td>\n",
              "      <td>0</td>\n",
              "      <td>237</td>\n",
              "    </tr>\n",
              "    <tr>\n",
              "      <th>2</th>\n",
              "      <td>3</td>\n",
              "      <td>@@16584954</td>\n",
              "      <td>immigrant</td>\n",
              "      <td>ie</td>\n",
              "      <td>\"White House press secretary Sean Spicer said ...</td>\n",
              "      <td>0</td>\n",
              "      <td>0</td>\n",
              "      <td>162</td>\n",
              "    </tr>\n",
              "    <tr>\n",
              "      <th>3</th>\n",
              "      <td>4</td>\n",
              "      <td>@@7811231</td>\n",
              "      <td>disabled</td>\n",
              "      <td>nz</td>\n",
              "      <td>Council customers only signs would be displaye...</td>\n",
              "      <td>0</td>\n",
              "      <td>0</td>\n",
              "      <td>162</td>\n",
              "    </tr>\n",
              "    <tr>\n",
              "      <th>4</th>\n",
              "      <td>5</td>\n",
              "      <td>@@1494111</td>\n",
              "      <td>refugee</td>\n",
              "      <td>ca</td>\n",
              "      <td>\"\"\" Just like we received migrants fleeing El ...</td>\n",
              "      <td>0</td>\n",
              "      <td>0</td>\n",
              "      <td>277</td>\n",
              "    </tr>\n",
              "  </tbody>\n",
              "</table>\n",
              "</div>\n",
              "      <button class=\"colab-df-convert\" onclick=\"convertToInteractive('df-6c852f35-4e5e-4ea1-8cac-f19a5b585f05')\"\n",
              "              title=\"Convert this dataframe to an interactive table.\"\n",
              "              style=\"display:none;\">\n",
              "        \n",
              "  <svg xmlns=\"http://www.w3.org/2000/svg\" height=\"24px\"viewBox=\"0 0 24 24\"\n",
              "       width=\"24px\">\n",
              "    <path d=\"M0 0h24v24H0V0z\" fill=\"none\"/>\n",
              "    <path d=\"M18.56 5.44l.94 2.06.94-2.06 2.06-.94-2.06-.94-.94-2.06-.94 2.06-2.06.94zm-11 1L8.5 8.5l.94-2.06 2.06-.94-2.06-.94L8.5 2.5l-.94 2.06-2.06.94zm10 10l.94 2.06.94-2.06 2.06-.94-2.06-.94-.94-2.06-.94 2.06-2.06.94z\"/><path d=\"M17.41 7.96l-1.37-1.37c-.4-.4-.92-.59-1.43-.59-.52 0-1.04.2-1.43.59L10.3 9.45l-7.72 7.72c-.78.78-.78 2.05 0 2.83L4 21.41c.39.39.9.59 1.41.59.51 0 1.02-.2 1.41-.59l7.78-7.78 2.81-2.81c.8-.78.8-2.07 0-2.86zM5.41 20L4 18.59l7.72-7.72 1.47 1.35L5.41 20z\"/>\n",
              "  </svg>\n",
              "      </button>\n",
              "      \n",
              "  <style>\n",
              "    .colab-df-container {\n",
              "      display:flex;\n",
              "      flex-wrap:wrap;\n",
              "      gap: 12px;\n",
              "    }\n",
              "\n",
              "    .colab-df-convert {\n",
              "      background-color: #E8F0FE;\n",
              "      border: none;\n",
              "      border-radius: 50%;\n",
              "      cursor: pointer;\n",
              "      display: none;\n",
              "      fill: #1967D2;\n",
              "      height: 32px;\n",
              "      padding: 0 0 0 0;\n",
              "      width: 32px;\n",
              "    }\n",
              "\n",
              "    .colab-df-convert:hover {\n",
              "      background-color: #E2EBFA;\n",
              "      box-shadow: 0px 1px 2px rgba(60, 64, 67, 0.3), 0px 1px 3px 1px rgba(60, 64, 67, 0.15);\n",
              "      fill: #174EA6;\n",
              "    }\n",
              "\n",
              "    [theme=dark] .colab-df-convert {\n",
              "      background-color: #3B4455;\n",
              "      fill: #D2E3FC;\n",
              "    }\n",
              "\n",
              "    [theme=dark] .colab-df-convert:hover {\n",
              "      background-color: #434B5C;\n",
              "      box-shadow: 0px 1px 3px 1px rgba(0, 0, 0, 0.15);\n",
              "      filter: drop-shadow(0px 1px 2px rgba(0, 0, 0, 0.3));\n",
              "      fill: #FFFFFF;\n",
              "    }\n",
              "  </style>\n",
              "\n",
              "      <script>\n",
              "        const buttonEl =\n",
              "          document.querySelector('#df-6c852f35-4e5e-4ea1-8cac-f19a5b585f05 button.colab-df-convert');\n",
              "        buttonEl.style.display =\n",
              "          google.colab.kernel.accessAllowed ? 'block' : 'none';\n",
              "\n",
              "        async function convertToInteractive(key) {\n",
              "          const element = document.querySelector('#df-6c852f35-4e5e-4ea1-8cac-f19a5b585f05');\n",
              "          const dataTable =\n",
              "            await google.colab.kernel.invokeFunction('convertToInteractive',\n",
              "                                                     [key], {});\n",
              "          if (!dataTable) return;\n",
              "\n",
              "          const docLinkHtml = 'Like what you see? Visit the ' +\n",
              "            '<a target=\"_blank\" href=https://colab.research.google.com/notebooks/data_table.ipynb>data table notebook</a>'\n",
              "            + ' to learn more about interactive tables.';\n",
              "          element.innerHTML = '';\n",
              "          dataTable['output_type'] = 'display_data';\n",
              "          await google.colab.output.renderOutput(dataTable, element);\n",
              "          const docLink = document.createElement('div');\n",
              "          docLink.innerHTML = docLinkHtml;\n",
              "          element.appendChild(docLink);\n",
              "        }\n",
              "      </script>\n",
              "    </div>\n",
              "  </div>\n",
              "  "
            ]
          },
          "metadata": {},
          "execution_count": 19
        }
      ],
      "source": [
        "# Create a new annotated train_df with text length for each example\n",
        "annotated_train_df = train_df.copy()\n",
        "annotated_train_df['text_length'] = train_df['text'].apply(lambda x: len(x))\n",
        "annotated_train_df.head()\n"
      ]
    },
    {
      "cell_type": "code",
      "execution_count": null,
      "metadata": {
        "id": "8OpmgSEN0plT",
        "outputId": "4fe9c603-f49d-40eb-c98c-d260eb06a0df",
        "colab": {
          "base_uri": "https://localhost:8080/",
          "height": 354
        }
      },
      "outputs": [
        {
          "output_type": "execute_result",
          "data": {
            "text/plain": [
              "  par_id      art_id country  \\\n",
              "0      1  @@24942188      ph   \n",
              "1      2  @@21968160      gh   \n",
              "2      3  @@16584954      ie   \n",
              "3      4   @@7811231      nz   \n",
              "4      5   @@1494111      ca   \n",
              "\n",
              "                                                text  label orig_label  \\\n",
              "0  We 're living in times of absolute insanity , ...      0          0   \n",
              "1  In Libya today , there are countless number of...      0          0   \n",
              "2  \"White House press secretary Sean Spicer said ...      0          0   \n",
              "3  Council customers only signs would be displaye...      0          0   \n",
              "4  \"\"\" Just like we received migrants fleeing El ...      0          0   \n",
              "\n",
              "   text_length  disabled  homeless  hopeless  immigrant  in-need  migrant  \\\n",
              "0          620         0         0         1          0        0        0   \n",
              "1          237         0         0         0          0        0        1   \n",
              "2          162         0         0         0          1        0        0   \n",
              "3          162         1         0         0          0        0        0   \n",
              "4          277         0         0         0          0        0        0   \n",
              "\n",
              "   poor-families  refugee  vulnerable  women  \n",
              "0              0        0           0      0  \n",
              "1              0        0           0      0  \n",
              "2              0        0           0      0  \n",
              "3              0        0           0      0  \n",
              "4              0        1           0      0  "
            ],
            "text/html": [
              "\n",
              "  <div id=\"df-41ab8def-a7d6-4c24-a1e9-d86523e31ada\">\n",
              "    <div class=\"colab-df-container\">\n",
              "      <div>\n",
              "<style scoped>\n",
              "    .dataframe tbody tr th:only-of-type {\n",
              "        vertical-align: middle;\n",
              "    }\n",
              "\n",
              "    .dataframe tbody tr th {\n",
              "        vertical-align: top;\n",
              "    }\n",
              "\n",
              "    .dataframe thead th {\n",
              "        text-align: right;\n",
              "    }\n",
              "</style>\n",
              "<table border=\"1\" class=\"dataframe\">\n",
              "  <thead>\n",
              "    <tr style=\"text-align: right;\">\n",
              "      <th></th>\n",
              "      <th>par_id</th>\n",
              "      <th>art_id</th>\n",
              "      <th>country</th>\n",
              "      <th>text</th>\n",
              "      <th>label</th>\n",
              "      <th>orig_label</th>\n",
              "      <th>text_length</th>\n",
              "      <th>disabled</th>\n",
              "      <th>homeless</th>\n",
              "      <th>hopeless</th>\n",
              "      <th>immigrant</th>\n",
              "      <th>in-need</th>\n",
              "      <th>migrant</th>\n",
              "      <th>poor-families</th>\n",
              "      <th>refugee</th>\n",
              "      <th>vulnerable</th>\n",
              "      <th>women</th>\n",
              "    </tr>\n",
              "  </thead>\n",
              "  <tbody>\n",
              "    <tr>\n",
              "      <th>0</th>\n",
              "      <td>1</td>\n",
              "      <td>@@24942188</td>\n",
              "      <td>ph</td>\n",
              "      <td>We 're living in times of absolute insanity , ...</td>\n",
              "      <td>0</td>\n",
              "      <td>0</td>\n",
              "      <td>620</td>\n",
              "      <td>0</td>\n",
              "      <td>0</td>\n",
              "      <td>1</td>\n",
              "      <td>0</td>\n",
              "      <td>0</td>\n",
              "      <td>0</td>\n",
              "      <td>0</td>\n",
              "      <td>0</td>\n",
              "      <td>0</td>\n",
              "      <td>0</td>\n",
              "    </tr>\n",
              "    <tr>\n",
              "      <th>1</th>\n",
              "      <td>2</td>\n",
              "      <td>@@21968160</td>\n",
              "      <td>gh</td>\n",
              "      <td>In Libya today , there are countless number of...</td>\n",
              "      <td>0</td>\n",
              "      <td>0</td>\n",
              "      <td>237</td>\n",
              "      <td>0</td>\n",
              "      <td>0</td>\n",
              "      <td>0</td>\n",
              "      <td>0</td>\n",
              "      <td>0</td>\n",
              "      <td>1</td>\n",
              "      <td>0</td>\n",
              "      <td>0</td>\n",
              "      <td>0</td>\n",
              "      <td>0</td>\n",
              "    </tr>\n",
              "    <tr>\n",
              "      <th>2</th>\n",
              "      <td>3</td>\n",
              "      <td>@@16584954</td>\n",
              "      <td>ie</td>\n",
              "      <td>\"White House press secretary Sean Spicer said ...</td>\n",
              "      <td>0</td>\n",
              "      <td>0</td>\n",
              "      <td>162</td>\n",
              "      <td>0</td>\n",
              "      <td>0</td>\n",
              "      <td>0</td>\n",
              "      <td>1</td>\n",
              "      <td>0</td>\n",
              "      <td>0</td>\n",
              "      <td>0</td>\n",
              "      <td>0</td>\n",
              "      <td>0</td>\n",
              "      <td>0</td>\n",
              "    </tr>\n",
              "    <tr>\n",
              "      <th>3</th>\n",
              "      <td>4</td>\n",
              "      <td>@@7811231</td>\n",
              "      <td>nz</td>\n",
              "      <td>Council customers only signs would be displaye...</td>\n",
              "      <td>0</td>\n",
              "      <td>0</td>\n",
              "      <td>162</td>\n",
              "      <td>1</td>\n",
              "      <td>0</td>\n",
              "      <td>0</td>\n",
              "      <td>0</td>\n",
              "      <td>0</td>\n",
              "      <td>0</td>\n",
              "      <td>0</td>\n",
              "      <td>0</td>\n",
              "      <td>0</td>\n",
              "      <td>0</td>\n",
              "    </tr>\n",
              "    <tr>\n",
              "      <th>4</th>\n",
              "      <td>5</td>\n",
              "      <td>@@1494111</td>\n",
              "      <td>ca</td>\n",
              "      <td>\"\"\" Just like we received migrants fleeing El ...</td>\n",
              "      <td>0</td>\n",
              "      <td>0</td>\n",
              "      <td>277</td>\n",
              "      <td>0</td>\n",
              "      <td>0</td>\n",
              "      <td>0</td>\n",
              "      <td>0</td>\n",
              "      <td>0</td>\n",
              "      <td>0</td>\n",
              "      <td>0</td>\n",
              "      <td>1</td>\n",
              "      <td>0</td>\n",
              "      <td>0</td>\n",
              "    </tr>\n",
              "  </tbody>\n",
              "</table>\n",
              "</div>\n",
              "      <button class=\"colab-df-convert\" onclick=\"convertToInteractive('df-41ab8def-a7d6-4c24-a1e9-d86523e31ada')\"\n",
              "              title=\"Convert this dataframe to an interactive table.\"\n",
              "              style=\"display:none;\">\n",
              "        \n",
              "  <svg xmlns=\"http://www.w3.org/2000/svg\" height=\"24px\"viewBox=\"0 0 24 24\"\n",
              "       width=\"24px\">\n",
              "    <path d=\"M0 0h24v24H0V0z\" fill=\"none\"/>\n",
              "    <path d=\"M18.56 5.44l.94 2.06.94-2.06 2.06-.94-2.06-.94-.94-2.06-.94 2.06-2.06.94zm-11 1L8.5 8.5l.94-2.06 2.06-.94-2.06-.94L8.5 2.5l-.94 2.06-2.06.94zm10 10l.94 2.06.94-2.06 2.06-.94-2.06-.94-.94-2.06-.94 2.06-2.06.94z\"/><path d=\"M17.41 7.96l-1.37-1.37c-.4-.4-.92-.59-1.43-.59-.52 0-1.04.2-1.43.59L10.3 9.45l-7.72 7.72c-.78.78-.78 2.05 0 2.83L4 21.41c.39.39.9.59 1.41.59.51 0 1.02-.2 1.41-.59l7.78-7.78 2.81-2.81c.8-.78.8-2.07 0-2.86zM5.41 20L4 18.59l7.72-7.72 1.47 1.35L5.41 20z\"/>\n",
              "  </svg>\n",
              "      </button>\n",
              "      \n",
              "  <style>\n",
              "    .colab-df-container {\n",
              "      display:flex;\n",
              "      flex-wrap:wrap;\n",
              "      gap: 12px;\n",
              "    }\n",
              "\n",
              "    .colab-df-convert {\n",
              "      background-color: #E8F0FE;\n",
              "      border: none;\n",
              "      border-radius: 50%;\n",
              "      cursor: pointer;\n",
              "      display: none;\n",
              "      fill: #1967D2;\n",
              "      height: 32px;\n",
              "      padding: 0 0 0 0;\n",
              "      width: 32px;\n",
              "    }\n",
              "\n",
              "    .colab-df-convert:hover {\n",
              "      background-color: #E2EBFA;\n",
              "      box-shadow: 0px 1px 2px rgba(60, 64, 67, 0.3), 0px 1px 3px 1px rgba(60, 64, 67, 0.15);\n",
              "      fill: #174EA6;\n",
              "    }\n",
              "\n",
              "    [theme=dark] .colab-df-convert {\n",
              "      background-color: #3B4455;\n",
              "      fill: #D2E3FC;\n",
              "    }\n",
              "\n",
              "    [theme=dark] .colab-df-convert:hover {\n",
              "      background-color: #434B5C;\n",
              "      box-shadow: 0px 1px 3px 1px rgba(0, 0, 0, 0.15);\n",
              "      filter: drop-shadow(0px 1px 2px rgba(0, 0, 0, 0.3));\n",
              "      fill: #FFFFFF;\n",
              "    }\n",
              "  </style>\n",
              "\n",
              "      <script>\n",
              "        const buttonEl =\n",
              "          document.querySelector('#df-41ab8def-a7d6-4c24-a1e9-d86523e31ada button.colab-df-convert');\n",
              "        buttonEl.style.display =\n",
              "          google.colab.kernel.accessAllowed ? 'block' : 'none';\n",
              "\n",
              "        async function convertToInteractive(key) {\n",
              "          const element = document.querySelector('#df-41ab8def-a7d6-4c24-a1e9-d86523e31ada');\n",
              "          const dataTable =\n",
              "            await google.colab.kernel.invokeFunction('convertToInteractive',\n",
              "                                                     [key], {});\n",
              "          if (!dataTable) return;\n",
              "\n",
              "          const docLinkHtml = 'Like what you see? Visit the ' +\n",
              "            '<a target=\"_blank\" href=https://colab.research.google.com/notebooks/data_table.ipynb>data table notebook</a>'\n",
              "            + ' to learn more about interactive tables.';\n",
              "          element.innerHTML = '';\n",
              "          dataTable['output_type'] = 'display_data';\n",
              "          await google.colab.output.renderOutput(dataTable, element);\n",
              "          const docLink = document.createElement('div');\n",
              "          docLink.innerHTML = docLinkHtml;\n",
              "          element.appendChild(docLink);\n",
              "        }\n",
              "      </script>\n",
              "    </div>\n",
              "  </div>\n",
              "  "
            ]
          },
          "metadata": {},
          "execution_count": 20
        }
      ],
      "source": [
        "# Create one hot vectors for each keyword in the annotated_train_df\n",
        "import numpy as np\n",
        "from sklearn.preprocessing import MultiLabelBinarizer\n",
        "mlb = MultiLabelBinarizer()\n",
        "annotated_train_df['keyword'] = annotated_train_df['keyword'].apply(lambda x: [x])\n",
        "annotated_train_df = annotated_train_df.join(pd.DataFrame(mlb.fit_transform(annotated_train_df.pop('keyword')),\n",
        "                            columns=mlb.classes_,\n",
        "                            index=annotated_train_df.index))\n",
        "annotated_train_df.head()"
      ]
    },
    {
      "cell_type": "code",
      "execution_count": null,
      "metadata": {
        "id": "yIZCALb7FOPQ",
        "outputId": "a02752a7-50d8-42e5-cd9d-573fbdc3f4dd",
        "colab": {
          "base_uri": "https://localhost:8080/"
        }
      },
      "outputs": [
        {
          "output_type": "stream",
          "name": "stderr",
          "text": [
            "[nltk_data] Downloading package stopwords to /root/nltk_data...\n",
            "[nltk_data]   Unzipping corpora/stopwords.zip.\n"
          ]
        },
        {
          "output_type": "execute_result",
          "data": {
            "text/plain": [
              "True"
            ]
          },
          "metadata": {},
          "execution_count": 21
        }
      ],
      "source": [
        "import nltk\n",
        "nltk.download('stopwords')"
      ]
    },
    {
      "cell_type": "code",
      "execution_count": null,
      "metadata": {
        "id": "AuOwEk16FOPR",
        "outputId": "30612682-fddf-49f2-89ff-84637c026ccf",
        "colab": {
          "base_uri": "https://localhost:8080/",
          "height": 441
        }
      },
      "outputs": [
        {
          "output_type": "execute_result",
          "data": {
            "text/plain": [
              "  par_id      art_id country  \\\n",
              "0      1  @@24942188      ph   \n",
              "1      2  @@21968160      gh   \n",
              "2      3  @@16584954      ie   \n",
              "3      4   @@7811231      nz   \n",
              "4      5   @@1494111      ca   \n",
              "\n",
              "                                                text  label orig_label  \\\n",
              "0  We 're living in times of absolute insanity , ...      0          0   \n",
              "1  In Libya today , there are countless number of...      0          0   \n",
              "2  \"White House press secretary Sean Spicer said ...      0          0   \n",
              "3  Council customers only signs would be displaye...      0          0   \n",
              "4  \"\"\" Just like we received migrants fleeing El ...      0          0   \n",
              "\n",
              "   text_length  disabled  homeless  hopeless  immigrant  in-need  migrant  \\\n",
              "0          620         0         0         1          0        0        0   \n",
              "1          237         0         0         0          0        0        1   \n",
              "2          162         0         0         0          1        0        0   \n",
              "3          162         1         0         0          0        0        0   \n",
              "4          277         0         0         0          0        0        0   \n",
              "\n",
              "   poor-families  refugee  vulnerable  women  stopwords  \n",
              "0              0        0           0      0         46  \n",
              "1              0        0           0      0         14  \n",
              "2              0        0           0      0          7  \n",
              "3              0        0           0      0         10  \n",
              "4              0        1           0      0         14  "
            ],
            "text/html": [
              "\n",
              "  <div id=\"df-7d6581c8-4c5e-40c3-9461-2116b0bd4f6e\">\n",
              "    <div class=\"colab-df-container\">\n",
              "      <div>\n",
              "<style scoped>\n",
              "    .dataframe tbody tr th:only-of-type {\n",
              "        vertical-align: middle;\n",
              "    }\n",
              "\n",
              "    .dataframe tbody tr th {\n",
              "        vertical-align: top;\n",
              "    }\n",
              "\n",
              "    .dataframe thead th {\n",
              "        text-align: right;\n",
              "    }\n",
              "</style>\n",
              "<table border=\"1\" class=\"dataframe\">\n",
              "  <thead>\n",
              "    <tr style=\"text-align: right;\">\n",
              "      <th></th>\n",
              "      <th>par_id</th>\n",
              "      <th>art_id</th>\n",
              "      <th>country</th>\n",
              "      <th>text</th>\n",
              "      <th>label</th>\n",
              "      <th>orig_label</th>\n",
              "      <th>text_length</th>\n",
              "      <th>disabled</th>\n",
              "      <th>homeless</th>\n",
              "      <th>hopeless</th>\n",
              "      <th>immigrant</th>\n",
              "      <th>in-need</th>\n",
              "      <th>migrant</th>\n",
              "      <th>poor-families</th>\n",
              "      <th>refugee</th>\n",
              "      <th>vulnerable</th>\n",
              "      <th>women</th>\n",
              "      <th>stopwords</th>\n",
              "    </tr>\n",
              "  </thead>\n",
              "  <tbody>\n",
              "    <tr>\n",
              "      <th>0</th>\n",
              "      <td>1</td>\n",
              "      <td>@@24942188</td>\n",
              "      <td>ph</td>\n",
              "      <td>We 're living in times of absolute insanity , ...</td>\n",
              "      <td>0</td>\n",
              "      <td>0</td>\n",
              "      <td>620</td>\n",
              "      <td>0</td>\n",
              "      <td>0</td>\n",
              "      <td>1</td>\n",
              "      <td>0</td>\n",
              "      <td>0</td>\n",
              "      <td>0</td>\n",
              "      <td>0</td>\n",
              "      <td>0</td>\n",
              "      <td>0</td>\n",
              "      <td>0</td>\n",
              "      <td>46</td>\n",
              "    </tr>\n",
              "    <tr>\n",
              "      <th>1</th>\n",
              "      <td>2</td>\n",
              "      <td>@@21968160</td>\n",
              "      <td>gh</td>\n",
              "      <td>In Libya today , there are countless number of...</td>\n",
              "      <td>0</td>\n",
              "      <td>0</td>\n",
              "      <td>237</td>\n",
              "      <td>0</td>\n",
              "      <td>0</td>\n",
              "      <td>0</td>\n",
              "      <td>0</td>\n",
              "      <td>0</td>\n",
              "      <td>1</td>\n",
              "      <td>0</td>\n",
              "      <td>0</td>\n",
              "      <td>0</td>\n",
              "      <td>0</td>\n",
              "      <td>14</td>\n",
              "    </tr>\n",
              "    <tr>\n",
              "      <th>2</th>\n",
              "      <td>3</td>\n",
              "      <td>@@16584954</td>\n",
              "      <td>ie</td>\n",
              "      <td>\"White House press secretary Sean Spicer said ...</td>\n",
              "      <td>0</td>\n",
              "      <td>0</td>\n",
              "      <td>162</td>\n",
              "      <td>0</td>\n",
              "      <td>0</td>\n",
              "      <td>0</td>\n",
              "      <td>1</td>\n",
              "      <td>0</td>\n",
              "      <td>0</td>\n",
              "      <td>0</td>\n",
              "      <td>0</td>\n",
              "      <td>0</td>\n",
              "      <td>0</td>\n",
              "      <td>7</td>\n",
              "    </tr>\n",
              "    <tr>\n",
              "      <th>3</th>\n",
              "      <td>4</td>\n",
              "      <td>@@7811231</td>\n",
              "      <td>nz</td>\n",
              "      <td>Council customers only signs would be displaye...</td>\n",
              "      <td>0</td>\n",
              "      <td>0</td>\n",
              "      <td>162</td>\n",
              "      <td>1</td>\n",
              "      <td>0</td>\n",
              "      <td>0</td>\n",
              "      <td>0</td>\n",
              "      <td>0</td>\n",
              "      <td>0</td>\n",
              "      <td>0</td>\n",
              "      <td>0</td>\n",
              "      <td>0</td>\n",
              "      <td>0</td>\n",
              "      <td>10</td>\n",
              "    </tr>\n",
              "    <tr>\n",
              "      <th>4</th>\n",
              "      <td>5</td>\n",
              "      <td>@@1494111</td>\n",
              "      <td>ca</td>\n",
              "      <td>\"\"\" Just like we received migrants fleeing El ...</td>\n",
              "      <td>0</td>\n",
              "      <td>0</td>\n",
              "      <td>277</td>\n",
              "      <td>0</td>\n",
              "      <td>0</td>\n",
              "      <td>0</td>\n",
              "      <td>0</td>\n",
              "      <td>0</td>\n",
              "      <td>0</td>\n",
              "      <td>0</td>\n",
              "      <td>1</td>\n",
              "      <td>0</td>\n",
              "      <td>0</td>\n",
              "      <td>14</td>\n",
              "    </tr>\n",
              "  </tbody>\n",
              "</table>\n",
              "</div>\n",
              "      <button class=\"colab-df-convert\" onclick=\"convertToInteractive('df-7d6581c8-4c5e-40c3-9461-2116b0bd4f6e')\"\n",
              "              title=\"Convert this dataframe to an interactive table.\"\n",
              "              style=\"display:none;\">\n",
              "        \n",
              "  <svg xmlns=\"http://www.w3.org/2000/svg\" height=\"24px\"viewBox=\"0 0 24 24\"\n",
              "       width=\"24px\">\n",
              "    <path d=\"M0 0h24v24H0V0z\" fill=\"none\"/>\n",
              "    <path d=\"M18.56 5.44l.94 2.06.94-2.06 2.06-.94-2.06-.94-.94-2.06-.94 2.06-2.06.94zm-11 1L8.5 8.5l.94-2.06 2.06-.94-2.06-.94L8.5 2.5l-.94 2.06-2.06.94zm10 10l.94 2.06.94-2.06 2.06-.94-2.06-.94-.94-2.06-.94 2.06-2.06.94z\"/><path d=\"M17.41 7.96l-1.37-1.37c-.4-.4-.92-.59-1.43-.59-.52 0-1.04.2-1.43.59L10.3 9.45l-7.72 7.72c-.78.78-.78 2.05 0 2.83L4 21.41c.39.39.9.59 1.41.59.51 0 1.02-.2 1.41-.59l7.78-7.78 2.81-2.81c.8-.78.8-2.07 0-2.86zM5.41 20L4 18.59l7.72-7.72 1.47 1.35L5.41 20z\"/>\n",
              "  </svg>\n",
              "      </button>\n",
              "      \n",
              "  <style>\n",
              "    .colab-df-container {\n",
              "      display:flex;\n",
              "      flex-wrap:wrap;\n",
              "      gap: 12px;\n",
              "    }\n",
              "\n",
              "    .colab-df-convert {\n",
              "      background-color: #E8F0FE;\n",
              "      border: none;\n",
              "      border-radius: 50%;\n",
              "      cursor: pointer;\n",
              "      display: none;\n",
              "      fill: #1967D2;\n",
              "      height: 32px;\n",
              "      padding: 0 0 0 0;\n",
              "      width: 32px;\n",
              "    }\n",
              "\n",
              "    .colab-df-convert:hover {\n",
              "      background-color: #E2EBFA;\n",
              "      box-shadow: 0px 1px 2px rgba(60, 64, 67, 0.3), 0px 1px 3px 1px rgba(60, 64, 67, 0.15);\n",
              "      fill: #174EA6;\n",
              "    }\n",
              "\n",
              "    [theme=dark] .colab-df-convert {\n",
              "      background-color: #3B4455;\n",
              "      fill: #D2E3FC;\n",
              "    }\n",
              "\n",
              "    [theme=dark] .colab-df-convert:hover {\n",
              "      background-color: #434B5C;\n",
              "      box-shadow: 0px 1px 3px 1px rgba(0, 0, 0, 0.15);\n",
              "      filter: drop-shadow(0px 1px 2px rgba(0, 0, 0, 0.3));\n",
              "      fill: #FFFFFF;\n",
              "    }\n",
              "  </style>\n",
              "\n",
              "      <script>\n",
              "        const buttonEl =\n",
              "          document.querySelector('#df-7d6581c8-4c5e-40c3-9461-2116b0bd4f6e button.colab-df-convert');\n",
              "        buttonEl.style.display =\n",
              "          google.colab.kernel.accessAllowed ? 'block' : 'none';\n",
              "\n",
              "        async function convertToInteractive(key) {\n",
              "          const element = document.querySelector('#df-7d6581c8-4c5e-40c3-9461-2116b0bd4f6e');\n",
              "          const dataTable =\n",
              "            await google.colab.kernel.invokeFunction('convertToInteractive',\n",
              "                                                     [key], {});\n",
              "          if (!dataTable) return;\n",
              "\n",
              "          const docLinkHtml = 'Like what you see? Visit the ' +\n",
              "            '<a target=\"_blank\" href=https://colab.research.google.com/notebooks/data_table.ipynb>data table notebook</a>'\n",
              "            + ' to learn more about interactive tables.';\n",
              "          element.innerHTML = '';\n",
              "          dataTable['output_type'] = 'display_data';\n",
              "          await google.colab.output.renderOutput(dataTable, element);\n",
              "          const docLink = document.createElement('div');\n",
              "          docLink.innerHTML = docLinkHtml;\n",
              "          element.appendChild(docLink);\n",
              "        }\n",
              "      </script>\n",
              "    </div>\n",
              "  </div>\n",
              "  "
            ]
          },
          "metadata": {},
          "execution_count": 22
        }
      ],
      "source": [
        "# Count the number of stop words in each text column\n",
        "\n",
        "from nltk.corpus import stopwords\n",
        "stop = stopwords.words('english')\n",
        "annotated_train_df['stopwords'] = annotated_train_df['text'].apply(lambda x: len([x for x in x.split() if x in stop]))\n",
        "annotated_train_df.head()\n"
      ]
    },
    {
      "cell_type": "code",
      "execution_count": null,
      "metadata": {
        "id": "sY-0iK1S0plU",
        "outputId": "155162de-e3d3-436b-990d-1098d6000738",
        "colab": {
          "base_uri": "https://localhost:8080/",
          "height": 535
        }
      },
      "outputs": [
        {
          "output_type": "display_data",
          "data": {
            "text/plain": [
              "<Figure size 720x576 with 1 Axes>"
            ],
            "image/png": "[encoded data removed]"
          },
          "metadata": {}
        }
      ],
      "source": [
        "#Plot the distribution of the length of the text for each class label in the annotated_train_df\n",
        "plt.figure(figsize=(10, 8))\n",
        "sns.boxplot(x='label', y='text_length', data=annotated_train_df)\n",
        "plt.title('Distribution of text length per class label')\n",
        "plt.xlabel('Class label')\n",
        "plt.ylabel('Text length')\n",
        "plt.show()\n"
      ]
    },
    {
      "cell_type": "code",
      "execution_count": null,
      "metadata": {
        "id": "bd9l8kd30plU",
        "outputId": "f4358502-db5b-4fc3-d0e0-0b3bd43ae8bc",
        "colab": {
          "base_uri": "https://localhost:8080/",
          "height": 535
        }
      },
      "outputs": [
        {
          "output_type": "display_data",
          "data": {
            "text/plain": [
              "<Figure size 720x576 with 1 Axes>"
            ],
            "image/png": "[encoded data removed]"
          },
          "metadata": {}
        }
      ],
      "source": [
        "# Plot the distribution of the length of the text for each class label in the annotated_train_df in a histogram\n",
        "plt.figure(figsize=(10, 8))\n",
        "sns.histplot(x='text_length', data=annotated_train_df, hue='label', kde=True)\n",
        "plt.title('Distribution of text length per class label')\n",
        "plt.xlabel('Text length')\n",
        "plt.ylabel('Number of examples')\n",
        "plt.show()\n"
      ]
    },
    {
      "cell_type": "code",
      "execution_count": null,
      "metadata": {
        "id": "NeLi4CeJ0plV",
        "outputId": "7a890ca1-2c9c-47ce-a2bc-f592279f6a68",
        "colab": {
          "base_uri": "https://localhost:8080/"
        }
      },
      "outputs": [
        {
          "output_type": "stream",
          "name": "stdout",
          "text": [
            "The maximum text length is 5501\n",
            "The minimum text length is 0\n"
          ]
        }
      ],
      "source": [
        "# get the max text length from the annotated_train_df \n",
        "max_text_length = annotated_train_df['text_length'].max()\n",
        "print(f'The maximum text length is {max_text_length}')\n",
        "\n",
        "# Get the min text length from the annotated_train_df\n",
        "min_text_length = annotated_train_df['text_length'].min()\n",
        "print(f'The minimum text length is {min_text_length}')\n"
      ]
    },
    {
      "cell_type": "markdown",
      "metadata": {
        "id": "smikq1xi0plW"
      },
      "source": [
        "The Pearson correlation coefficient (named for Karl Pearson) can be used to summarize the strength of the linear relationship between two data samples."
      ]
    },
    {
      "cell_type": "code",
      "execution_count": null,
      "metadata": {
        "id": "cj2gHbUG0plW",
        "outputId": "f2c063ee-90f5-4a39-d3d2-88955416dc09",
        "colab": {
          "base_uri": "https://localhost:8080/",
          "height": 387
        }
      },
      "outputs": [
        {
          "output_type": "stream",
          "name": "stderr",
          "text": [
            "/usr/local/lib/python3.8/dist-packages/seaborn/_decorators.py:36: FutureWarning: Pass the following variables as keyword args: x, y. From version 0.12, the only valid positional argument will be `data`, and passing other arguments without an explicit keyword will result in an error or misinterpretation.\n",
            "  warnings.warn(\n"
          ]
        },
        {
          "output_type": "display_data",
          "data": {
            "text/plain": [
              "<Figure size 432x288 with 1 Axes>"
            ],
            "image/png": "[encoded data removed]"
          },
          "metadata": {}
        },
        {
          "output_type": "stream",
          "name": "stdout",
          "text": [
            "PearsonRResult(statistic=0.04208676441589505, pvalue=1.674845472820588e-05)\n",
            "SignificanceResult(statistic=0.04349460190884137, pvalue=8.648911337348e-06)\n"
          ]
        }
      ],
      "source": [
        "# Plot a correlation plot between the class labels and the keywords on the annotated_train_df\n",
        "from scipy.stats import pearsonr, spearmanr\n",
        "Threshold=1000\n",
        "\n",
        "ax = sns.scatterplot(annotated_train_df['label'][annotated_train_df['text_length'] < Threshold], annotated_train_df['text_length'][annotated_train_df['text_length'] <Threshold])\n",
        "plt.show()\n",
        "\n",
        "print(pearsonr(annotated_train_df['label'][annotated_train_df['text_length'] <Threshold].tolist(), annotated_train_df['text_length'][annotated_train_df['text_length'] < Threshold].tolist()))\n",
        "print(spearmanr(annotated_train_df['label'][annotated_train_df['text_length'] < Threshold].tolist(), annotated_train_df['text_length'][annotated_train_df['text_length'] < Threshold].tolist()))"
      ]
    },
    {
      "cell_type": "code",
      "execution_count": null,
      "metadata": {
        "id": "4rNXzYgiFOPS",
        "outputId": "b1d35823-0dff-4abb-e1d1-c880b9d11242",
        "colab": {
          "base_uri": "https://localhost:8080/"
        }
      },
      "outputs": [
        {
          "output_type": "stream",
          "name": "stdout",
          "text": [
            "The maximum number of stop words is 300\n",
            "The minimum number of stop words is 0\n"
          ]
        }
      ],
      "source": [
        "# Max and min number of stop words in the annotated_train_df\n",
        "max_stopwords = annotated_train_df['stopwords'].max()\n",
        "print(f'The maximum number of stop words is {max_stopwords}')\n",
        "\n",
        "min_stopwords = annotated_train_df['stopwords'].min()\n",
        "print(f'The minimum number of stop words is {min_stopwords}')\n"
      ]
    },
    {
      "cell_type": "code",
      "execution_count": null,
      "metadata": {
        "id": "HNWHKcRrFOPS",
        "outputId": "7b4382bd-eb40-4df4-f057-9a5493358ca8",
        "colab": {
          "base_uri": "https://localhost:8080/",
          "height": 392
        }
      },
      "outputs": [
        {
          "output_type": "stream",
          "name": "stderr",
          "text": [
            "/usr/local/lib/python3.8/dist-packages/seaborn/_decorators.py:36: FutureWarning: Pass the following variables as keyword args: x, y. From version 0.12, the only valid positional argument will be `data`, and passing other arguments without an explicit keyword will result in an error or misinterpretation.\n",
            "  warnings.warn(\n"
          ]
        },
        {
          "output_type": "display_data",
          "data": {
            "text/plain": [
              "<Figure size 432x288 with 1 Axes>"
            ],
            "image/png": "[encoded data removed]"
          },
          "metadata": {}
        },
        {
          "output_type": "stream",
          "name": "stdout",
          "text": [
            "PearsonRResult(statistic=0.08655839168646402, pvalue=7.629407297918393e-19)\n",
            "SignificanceResult(statistic=0.08543323898263332, pvalue=2.140302174785055e-18)\n"
          ]
        }
      ],
      "source": [
        "# Show correlation between the class labels and the number of stop words in the annotated_train_df\n",
        "Threshold=1000\n",
        "ax = sns.scatterplot(annotated_train_df['label'][annotated_train_df['text_length'] < Threshold], annotated_train_df['stopwords'][annotated_train_df['text_length'] <Threshold])\n",
        "plt.show()\n",
        "\n",
        "# Calculate the pearson and spearman correlation between the class labels and the number of stop words in the annotated_train_df\n",
        "print(pearsonr(annotated_train_df['label'][annotated_train_df['text_length'] <Threshold].tolist(), annotated_train_df['stopwords'][annotated_train_df['text_length'] < Threshold].tolist()))\n",
        "print(spearmanr(annotated_train_df['label'][annotated_train_df['text_length'] < Threshold].tolist(), annotated_train_df['stopwords'][annotated_train_df['text_length'] < Threshold].tolist()))\n"
      ]
    },
    {
      "cell_type": "markdown",
      "metadata": {
        "id": "vbDvU69_FOPS"
      },
      "source": [
        "### 3.2 Removing stop words"
      ]
    },
    {
      "cell_type": "code",
      "execution_count": null,
      "metadata": {
        "id": "VxHj5tsvFOPS",
        "outputId": "31da3069-6cbf-4e54-d01f-50cbcc2c5dd3",
        "colab": {
          "base_uri": "https://localhost:8080/",
          "height": 722
        }
      },
      "outputs": [
        {
          "output_type": "execute_result",
          "data": {
            "text/plain": [
              "  par_id      art_id country  \\\n",
              "0      1  @@24942188      ph   \n",
              "1      2  @@21968160      gh   \n",
              "2      3  @@16584954      ie   \n",
              "3      4   @@7811231      nz   \n",
              "4      5   @@1494111      ca   \n",
              "\n",
              "                                                text  label orig_label  \\\n",
              "0  We 're living in times of absolute insanity , ...      0          0   \n",
              "1  In Libya today , there are countless number of...      0          0   \n",
              "2  \"White House press secretary Sean Spicer said ...      0          0   \n",
              "3  Council customers only signs would be displaye...      0          0   \n",
              "4  \"\"\" Just like we received migrants fleeing El ...      0          0   \n",
              "\n",
              "   text_length  disabled  homeless  hopeless  immigrant  in-need  migrant  \\\n",
              "0          620         0         0         1          0        0        0   \n",
              "1          237         0         0         0          0        0        1   \n",
              "2          162         0         0         0          1        0        0   \n",
              "3          162         1         0         0          0        0        0   \n",
              "4          277         0         0         0          0        0        0   \n",
              "\n",
              "   poor-families  refugee  vulnerable  women  stopwords  \\\n",
              "0              0        0           0      0         46   \n",
              "1              0        0           0      0         14   \n",
              "2              0        0           0      0          7   \n",
              "3              0        0           0      0         10   \n",
              "4              0        1           0      0         14   \n",
              "\n",
              "                              text_without_stopwords  \\\n",
              "0  We 're living times absolute insanity , I 'm p...   \n",
              "1  In Libya today , countless number Ghanaian Nig...   \n",
              "2  \"White House press secretary Sean Spicer said ...   \n",
              "3  Council customers signs would displayed . Two ...   \n",
              "4  \"\"\" Just like received migrants fleeing El Sal...   \n",
              "\n",
              "   text_without_stopwords_length  \n",
              "0                            452  \n",
              "1                            177  \n",
              "2                            134  \n",
              "3                            123  \n",
              "4                            225  "
            ],
            "text/html": [
              "\n",
              "  <div id=\"df-312d7316-0fd6-4283-b16b-b4e9e8c19ad9\">\n",
              "    <div class=\"colab-df-container\">\n",
              "      <div>\n",
              "<style scoped>\n",
              "    .dataframe tbody tr th:only-of-type {\n",
              "        vertical-align: middle;\n",
              "    }\n",
              "\n",
              "    .dataframe tbody tr th {\n",
              "        vertical-align: top;\n",
              "    }\n",
              "\n",
              "    .dataframe thead th {\n",
              "        text-align: right;\n",
              "    }\n",
              "</style>\n",
              "<table border=\"1\" class=\"dataframe\">\n",
              "  <thead>\n",
              "    <tr style=\"text-align: right;\">\n",
              "      <th></th>\n",
              "      <th>par_id</th>\n",
              "      <th>art_id</th>\n",
              "      <th>country</th>\n",
              "      <th>text</th>\n",
              "      <th>label</th>\n",
              "      <th>orig_label</th>\n",
              "      <th>text_length</th>\n",
              "      <th>disabled</th>\n",
              "      <th>homeless</th>\n",
              "      <th>hopeless</th>\n",
              "      <th>immigrant</th>\n",
              "      <th>in-need</th>\n",
              "      <th>migrant</th>\n",
              "      <th>poor-families</th>\n",
              "      <th>refugee</th>\n",
              "      <th>vulnerable</th>\n",
              "      <th>women</th>\n",
              "      <th>stopwords</th>\n",
              "      <th>text_without_stopwords</th>\n",
              "      <th>text_without_stopwords_length</th>\n",
              "    </tr>\n",
              "  </thead>\n",
              "  <tbody>\n",
              "    <tr>\n",
              "      <th>0</th>\n",
              "      <td>1</td>\n",
              "      <td>@@24942188</td>\n",
              "      <td>ph</td>\n",
              "      <td>We 're living in times of absolute insanity , ...</td>\n",
              "      <td>0</td>\n",
              "      <td>0</td>\n",
              "      <td>620</td>\n",
              "      <td>0</td>\n",
              "      <td>0</td>\n",
              "      <td>1</td>\n",
              "      <td>0</td>\n",
              "      <td>0</td>\n",
              "      <td>0</td>\n",
              "      <td>0</td>\n",
              "      <td>0</td>\n",
              "      <td>0</td>\n",
              "      <td>0</td>\n",
              "      <td>46</td>\n",
              "      <td>We 're living times absolute insanity , I 'm p...</td>\n",
              "      <td>452</td>\n",
              "    </tr>\n",
              "    <tr>\n",
              "      <th>1</th>\n",
              "      <td>2</td>\n",
              "      <td>@@21968160</td>\n",
              "      <td>gh</td>\n",
              "      <td>In Libya today , there are countless number of...</td>\n",
              "      <td>0</td>\n",
              "      <td>0</td>\n",
              "      <td>237</td>\n",
              "      <td>0</td>\n",
              "      <td>0</td>\n",
              "      <td>0</td>\n",
              "      <td>0</td>\n",
              "      <td>0</td>\n",
              "      <td>1</td>\n",
              "      <td>0</td>\n",
              "      <td>0</td>\n",
              "      <td>0</td>\n",
              "      <td>0</td>\n",
              "      <td>14</td>\n",
              "      <td>In Libya today , countless number Ghanaian Nig...</td>\n",
              "      <td>177</td>\n",
              "    </tr>\n",
              "    <tr>\n",
              "      <th>2</th>\n",
              "      <td>3</td>\n",
              "      <td>@@16584954</td>\n",
              "      <td>ie</td>\n",
              "      <td>\"White House press secretary Sean Spicer said ...</td>\n",
              "      <td>0</td>\n",
              "      <td>0</td>\n",
              "      <td>162</td>\n",
              "      <td>0</td>\n",
              "      <td>0</td>\n",
              "      <td>0</td>\n",
              "      <td>1</td>\n",
              "      <td>0</td>\n",
              "      <td>0</td>\n",
              "      <td>0</td>\n",
              "      <td>0</td>\n",
              "      <td>0</td>\n",
              "      <td>0</td>\n",
              "      <td>7</td>\n",
              "      <td>\"White House press secretary Sean Spicer said ...</td>\n",
              "      <td>134</td>\n",
              "    </tr>\n",
              "    <tr>\n",
              "      <th>3</th>\n",
              "      <td>4</td>\n",
              "      <td>@@7811231</td>\n",
              "      <td>nz</td>\n",
              "      <td>Council customers only signs would be displaye...</td>\n",
              "      <td>0</td>\n",
              "      <td>0</td>\n",
              "      <td>162</td>\n",
              "      <td>1</td>\n",
              "      <td>0</td>\n",
              "      <td>0</td>\n",
              "      <td>0</td>\n",
              "      <td>0</td>\n",
              "      <td>0</td>\n",
              "      <td>0</td>\n",
              "      <td>0</td>\n",
              "      <td>0</td>\n",
              "      <td>0</td>\n",
              "      <td>10</td>\n",
              "      <td>Council customers signs would displayed . Two ...</td>\n",
              "      <td>123</td>\n",
              "    </tr>\n",
              "    <tr>\n",
              "      <th>4</th>\n",
              "      <td>5</td>\n",
              "      <td>@@1494111</td>\n",
              "      <td>ca</td>\n",
              "      <td>\"\"\" Just like we received migrants fleeing El ...</td>\n",
              "      <td>0</td>\n",
              "      <td>0</td>\n",
              "      <td>277</td>\n",
              "      <td>0</td>\n",
              "      <td>0</td>\n",
              "      <td>0</td>\n",
              "      <td>0</td>\n",
              "      <td>0</td>\n",
              "      <td>0</td>\n",
              "      <td>0</td>\n",
              "      <td>1</td>\n",
              "      <td>0</td>\n",
              "      <td>0</td>\n",
              "      <td>14</td>\n",
              "      <td>\"\"\" Just like received migrants fleeing El Sal...</td>\n",
              "      <td>225</td>\n",
              "    </tr>\n",
              "  </tbody>\n",
              "</table>\n",
              "</div>\n",
              "      <button class=\"colab-df-convert\" onclick=\"convertToInteractive('df-312d7316-0fd6-4283-b16b-b4e9e8c19ad9')\"\n",
              "              title=\"Convert this dataframe to an interactive table.\"\n",
              "              style=\"display:none;\">\n",
              "        \n",
              "  <svg xmlns=\"http://www.w3.org/2000/svg\" height=\"24px\"viewBox=\"0 0 24 24\"\n",
              "       width=\"24px\">\n",
              "    <path d=\"M0 0h24v24H0V0z\" fill=\"none\"/>\n",
              "    <path d=\"M18.56 5.44l.94 2.06.94-2.06 2.06-.94-2.06-.94-.94-2.06-.94 2.06-2.06.94zm-11 1L8.5 8.5l.94-2.06 2.06-.94-2.06-.94L8.5 2.5l-.94 2.06-2.06.94zm10 10l.94 2.06.94-2.06 2.06-.94-2.06-.94-.94-2.06-.94 2.06-2.06.94z\"/><path d=\"M17.41 7.96l-1.37-1.37c-.4-.4-.92-.59-1.43-.59-.52 0-1.04.2-1.43.59L10.3 9.45l-7.72 7.72c-.78.78-.78 2.05 0 2.83L4 21.41c.39.39.9.59 1.41.59.51 0 1.02-.2 1.41-.59l7.78-7.78 2.81-2.81c.8-.78.8-2.07 0-2.86zM5.41 20L4 18.59l7.72-7.72 1.47 1.35L5.41 20z\"/>\n",
              "  </svg>\n",
              "      </button>\n",
              "      \n",
              "  <style>\n",
              "    .colab-df-container {\n",
              "      display:flex;\n",
              "      flex-wrap:wrap;\n",
              "      gap: 12px;\n",
              "    }\n",
              "\n",
              "    .colab-df-convert {\n",
              "      background-color: #E8F0FE;\n",
              "      border: none;\n",
              "      border-radius: 50%;\n",
              "      cursor: pointer;\n",
              "      display: none;\n",
              "      fill: #1967D2;\n",
              "      height: 32px;\n",
              "      padding: 0 0 0 0;\n",
              "      width: 32px;\n",
              "    }\n",
              "\n",
              "    .colab-df-convert:hover {\n",
              "      background-color: #E2EBFA;\n",
              "      box-shadow: 0px 1px 2px rgba(60, 64, 67, 0.3), 0px 1px 3px 1px rgba(60, 64, 67, 0.15);\n",
              "      fill: #174EA6;\n",
              "    }\n",
              "\n",
              "    [theme=dark] .colab-df-convert {\n",
              "      background-color: #3B4455;\n",
              "      fill: #D2E3FC;\n",
              "    }\n",
              "\n",
              "    [theme=dark] .colab-df-convert:hover {\n",
              "      background-color: #434B5C;\n",
              "      box-shadow: 0px 1px 3px 1px rgba(0, 0, 0, 0.15);\n",
              "      filter: drop-shadow(0px 1px 2px rgba(0, 0, 0, 0.3));\n",
              "      fill: #FFFFFF;\n",
              "    }\n",
              "  </style>\n",
              "\n",
              "      <script>\n",
              "        const buttonEl =\n",
              "          document.querySelector('#df-312d7316-0fd6-4283-b16b-b4e9e8c19ad9 button.colab-df-convert');\n",
              "        buttonEl.style.display =\n",
              "          google.colab.kernel.accessAllowed ? 'block' : 'none';\n",
              "\n",
              "        async function convertToInteractive(key) {\n",
              "          const element = document.querySelector('#df-312d7316-0fd6-4283-b16b-b4e9e8c19ad9');\n",
              "          const dataTable =\n",
              "            await google.colab.kernel.invokeFunction('convertToInteractive',\n",
              "                                                     [key], {});\n",
              "          if (!dataTable) return;\n",
              "\n",
              "          const docLinkHtml = 'Like what you see? Visit the ' +\n",
              "            '<a target=\"_blank\" href=https://colab.research.google.com/notebooks/data_table.ipynb>data table notebook</a>'\n",
              "            + ' to learn more about interactive tables.';\n",
              "          element.innerHTML = '';\n",
              "          dataTable['output_type'] = 'display_data';\n",
              "          await google.colab.output.renderOutput(dataTable, element);\n",
              "          const docLink = document.createElement('div');\n",
              "          docLink.innerHTML = docLinkHtml;\n",
              "          element.appendChild(docLink);\n",
              "        }\n",
              "      </script>\n",
              "    </div>\n",
              "  </div>\n",
              "  "
            ]
          },
          "metadata": {},
          "execution_count": 29
        }
      ],
      "source": [
        "# Remove the stop words from the annotated_train_df and create a new column called 'text_without_stopwords' in the annotated_train_df and calculate the length of the text without stop words\n",
        "annotated_train_df['text_without_stopwords'] = annotated_train_df['text'].apply(lambda x: \" \".join(x for x in x.split() if x not in stop))\n",
        "annotated_train_df['text_without_stopwords_length'] = annotated_train_df['text_without_stopwords'].apply(lambda x: len(x))\n",
        "annotated_train_df.head()\n"
      ]
    },
    {
      "cell_type": "code",
      "execution_count": null,
      "metadata": {
        "id": "CDEkE8b_FOPS",
        "outputId": "2213e4b4-b4c8-44a7-8923-db226dc689e8",
        "colab": {
          "base_uri": "https://localhost:8080/",
          "height": 418
        }
      },
      "outputs": [
        {
          "output_type": "stream",
          "name": "stderr",
          "text": [
            "/usr/local/lib/python3.8/dist-packages/seaborn/_decorators.py:36: FutureWarning: Pass the following variables as keyword args: x, y. From version 0.12, the only valid positional argument will be `data`, and passing other arguments without an explicit keyword will result in an error or misinterpretation.\n",
            "  warnings.warn(\n"
          ]
        },
        {
          "output_type": "display_data",
          "data": {
            "text/plain": [
              "<Figure size 432x288 with 1 Axes>"
            ],
            "image/png": "[encoded data removed]"
          },
          "metadata": {}
        },
        {
          "output_type": "stream",
          "name": "stdout",
          "text": [
            "PearsonRResult(statistic=0.012436557146741734, pvalue=0.2208843789295769)\n",
            "SignificanceResult(statistic=0.015074726000344077, pvalue=0.13783750080371915)\n"
          ]
        }
      ],
      "source": [
        "# Plot the correlation between the class labels and the length of the text without stop words in the annotated_train_df\n",
        "Threshold=500\n",
        "ax = sns.scatterplot(annotated_train_df['label'][annotated_train_df['text_length'] < Threshold], annotated_train_df['text_without_stopwords_length'][annotated_train_df['text_length'] <Threshold])\n",
        "\n",
        "plt.show()\n",
        "# Calculate the pearson and spearman correlation between the class labels and the length of the text without stop words in the annotated_train_df\n",
        "print(pearsonr(annotated_train_df['label'][annotated_train_df['text_length'] <Threshold].tolist(), annotated_train_df['text_without_stopwords_length'][annotated_train_df['text_length'] < Threshold].tolist()))\n",
        "print(spearmanr(annotated_train_df['label'][annotated_train_df['text_length'] < Threshold].tolist(), annotated_train_df['text_without_stopwords_length'][annotated_train_df['text_length'] < Threshold].tolist()))\n"
      ]
    },
    {
      "cell_type": "markdown",
      "metadata": {
        "id": "fPAGz7DDFOPS"
      },
      "source": [
        "### 3.3. Qualitative Assessment\n"
      ]
    },
    {
      "cell_type": "markdown",
      "metadata": {
        "id": "TBQcUIiqFOPT"
      },
      "source": [
        "Subjectivity and difficulty of the task with examples"
      ]
    },
    {
      "cell_type": "code",
      "execution_count": null,
      "metadata": {
        "id": "op5f5tEKFOPT",
        "outputId": "8d9b564f-8bd7-41a8-9a06-ca484ad5ce56",
        "colab": {
          "base_uri": "https://localhost:8080/"
        }
      },
      "outputs": [
        {
          "output_type": "stream",
          "name": "stdout",
          "text": [
            "We 're living in times of absolute insanity , as I 'm pretty sure most people are aware . For a while , waking up every day to check the news seemed to carry with it the same feeling of panic and dread that action heroes probably face when they 're trying to decide whether to cut the blue or green wire on a ticking bomb -- except the bomb 's instructions long ago burned in a fire and imminent catastrophe seems the likeliest outcome . It 's hard to stay that on-edge for that long , though , so it 's natural for people to become inured to this constant chaos , to slump into a malaise of hopelessness and pessimism .\n"
          ]
        }
      ],
      "source": [
        "print(train_df[train_df['orig_label'] == '0']['text'][0])\n",
        " "
      ]
    },
    {
      "cell_type": "code",
      "execution_count": null,
      "metadata": {
        "id": "iDf64WxwFOPT",
        "outputId": "a17830f1-04cd-4b70-ff8e-c73df66ab140",
        "colab": {
          "base_uri": "https://localhost:8080/",
          "height": 35
        }
      },
      "outputs": [
        {
          "output_type": "execute_result",
          "data": {
            "text/plain": [
              "'NUEVA ERA , Ilocos Norte - No family shall be homeless under the watch of the municipal government here , said town Mayor Aldrin Garvida .'"
            ],
            "application/vnd.google.colaboratory.intrinsic+json": {
              "type": "string"
            }
          },
          "metadata": {},
          "execution_count": 32
        }
      ],
      "source": [
        "train_df[train_df['orig_label'] == '1']['text'][8] "
      ]
    },
    {
      "cell_type": "code",
      "execution_count": null,
      "metadata": {
        "id": "ZxBJmfLpFOPT",
        "outputId": "a75ac2f8-1903-41c4-8dde-60628c19ca97",
        "colab": {
          "base_uri": "https://localhost:8080/",
          "height": 53
        }
      },
      "outputs": [
        {
          "output_type": "execute_result",
          "data": {
            "text/plain": [
              "'Jenny Neal , regional director of the Grandmothers Advocacy Network for Saskatchewan and Manitoba , displays her orange scarf at the sculpture Prairie Wind at River Landing , Thursday , November 24 , 2016 , to promote 16 days of orange to raise awareness about violence against women.Greg Pender / The StarPhoenix'"
            ],
            "application/vnd.google.colaboratory.intrinsic+json": {
              "type": "string"
            }
          },
          "metadata": {},
          "execution_count": 33
        }
      ],
      "source": [
        "train_df[train_df['orig_label'] == '2']['text'][178] "
      ]
    },
    {
      "cell_type": "code",
      "execution_count": null,
      "metadata": {
        "id": "dEN4AOW1FOPT",
        "outputId": "b4488918-ca6b-4fa8-831c-c6faaf5b8751",
        "colab": {
          "base_uri": "https://localhost:8080/",
          "height": 35
        }
      },
      "outputs": [
        {
          "output_type": "execute_result",
          "data": {
            "text/plain": [
              "'Fast food employee who fed disabled man becomes internet sensation'"
            ],
            "application/vnd.google.colaboratory.intrinsic+json": {
              "type": "string"
            }
          },
          "metadata": {},
          "execution_count": 34
        }
      ],
      "source": [
        "train_df[train_df['orig_label'] == '3']['text'][33] "
      ]
    },
    {
      "cell_type": "code",
      "execution_count": null,
      "metadata": {
        "id": "pG2QoHQCFOPT",
        "outputId": "df5ffcf7-c6d9-4c4b-b6c1-f8bc65f97f9a",
        "colab": {
          "base_uri": "https://localhost:8080/",
          "height": 87
        }
      },
      "outputs": [
        {
          "output_type": "execute_result",
          "data": {
            "text/plain": [
              "'We are alarmed to learn of your recently circulated proposals that would eviscerate the Lifeline program and leave many of the most vulnerable people in the country without access to affordable communications . As you are well aware , the Lifeline program provides a modest monthly subsidy of $9.25 to connect low-income Americans to phone and internet services . As broadband prices continue to soar , and affordability continues to suffer , adoption gaps remain . The Lifeline program has proven critical for poor families and people of color who are caught on the wrong side of the digital divide .'"
            ],
            "application/vnd.google.colaboratory.intrinsic+json": {
              "type": "string"
            }
          },
          "metadata": {},
          "execution_count": 35
        }
      ],
      "source": [
        "train_df[train_df['orig_label'] == '4']['text'][156] "
      ]
    },
    {
      "cell_type": "markdown",
      "metadata": {
        "id": "b92iNz78FOPU"
      },
      "source": [
        "The difference in values of each text is up for interpretation. For example, cases which are labelled as a 2 are given the label 1 for training and cases labelled as 1 are labelled as 0 for training. Therefore two very borderline cases can be classified completely differently using this system. In the example above a case could be made that the example labelled 2 is not PCL and therefore issues arrise within the dataset with regards to the difficulty of classification."
      ]
    },
    {
      "cell_type": "markdown",
      "metadata": {
        "id": "G4XcBvC9FOPU"
      },
      "source": [
        "We can also discuss:\n",
        "Binary classification task being undertaken on a multiclass/continuous problem where there are different levels of PCL."
      ]
    },
    {
      "cell_type": "markdown",
      "metadata": {
        "id": "6k6WF1tj4Cza"
      },
      "source": [
        "# 4. Rearranging the data for training and testing"
      ]
    },
    {
      "cell_type": "code",
      "execution_count": null,
      "metadata": {
        "id": "uPl7yuqx0plW"
      },
      "outputs": [],
      "source": [
        "#Use this if running on colab\n",
        "from dont_patronize_me import DontPatronizeMe\n",
        "dpm = DontPatronizeMe('/content/drive/MyDrive/NLPClassification_40-master', None)\n",
        "\n",
        "\n",
        "dpm.load_task1()\n",
        "# dpm.load_task2(return_one_hot=True)"
      ]
    },
    {
      "cell_type": "code",
      "execution_count": null,
      "metadata": {
        "colab": {
          "base_uri": "https://localhost:8080/",
          "height": 424
        },
        "id": "4jOEfTs40plX",
        "outputId": "e97988f7-3a6d-464c-c6e9-97f8518a0f7d"
      },
      "outputs": [
        {
          "output_type": "execute_result",
          "data": {
            "text/plain": [
              "      par_id      art_id     keyword country  \\\n",
              "0          1  @@24942188    hopeless      ph   \n",
              "1          2  @@21968160     migrant      gh   \n",
              "2          3  @@16584954   immigrant      ie   \n",
              "3          4   @@7811231    disabled      nz   \n",
              "4          5   @@1494111     refugee      ca   \n",
              "...      ...         ...         ...     ...   \n",
              "10464  10465  @@14297363       women      lk   \n",
              "10465  10466  @@70091353  vulnerable      ph   \n",
              "10466  10467  @@20282330     in-need      ng   \n",
              "10467  10468  @@16753236    hopeless      in   \n",
              "10468  10469  @@16779383    homeless      ie   \n",
              "\n",
              "                                                    text  label orig_label  \n",
              "0      We 're living in times of absolute insanity , ...      0          0  \n",
              "1      In Libya today , there are countless number of...      0          0  \n",
              "2      \"White House press secretary Sean Spicer said ...      0          0  \n",
              "3      Council customers only signs would be displaye...      0          0  \n",
              "4      \"\"\" Just like we received migrants fleeing El ...      0          0  \n",
              "...                                                  ...    ...        ...  \n",
              "10464  \"Sri Lankan norms and culture inhibit women fr...      0          1  \n",
              "10465  He added that the AFP will continue to bank on...      0          0  \n",
              "10466  \"\"\" She has one huge platform , and informatio...      1          3  \n",
              "10467  \"\"\" Anja Ringgren Loven I ca n't find a word t...      1          4  \n",
              "10468  \"\"\" Guinness World Record of 540lbs of 7-layer...      1          3  \n",
              "\n",
              "[10469 rows x 7 columns]"
            ],
            "text/html": [
              "\n",
              "  <div id=\"df-a4749fd6-90bc-4236-ad79-28f17717f343\">\n",
              "    <div class=\"colab-df-container\">\n",
              "      <div>\n",
              "<style scoped>\n",
              "    .dataframe tbody tr th:only-of-type {\n",
              "        vertical-align: middle;\n",
              "    }\n",
              "\n",
              "    .dataframe tbody tr th {\n",
              "        vertical-align: top;\n",
              "    }\n",
              "\n",
              "    .dataframe thead th {\n",
              "        text-align: right;\n",
              "    }\n",
              "</style>\n",
              "<table border=\"1\" class=\"dataframe\">\n",
              "  <thead>\n",
              "    <tr style=\"text-align: right;\">\n",
              "      <th></th>\n",
              "      <th>par_id</th>\n",
              "      <th>art_id</th>\n",
              "      <th>keyword</th>\n",
              "      <th>country</th>\n",
              "      <th>text</th>\n",
              "      <th>label</th>\n",
              "      <th>orig_label</th>\n",
              "    </tr>\n",
              "  </thead>\n",
              "  <tbody>\n",
              "    <tr>\n",
              "      <th>0</th>\n",
              "      <td>1</td>\n",
              "      <td>@@24942188</td>\n",
              "      <td>hopeless</td>\n",
              "      <td>ph</td>\n",
              "      <td>We 're living in times of absolute insanity , ...</td>\n",
              "      <td>0</td>\n",
              "      <td>0</td>\n",
              "    </tr>\n",
              "    <tr>\n",
              "      <th>1</th>\n",
              "      <td>2</td>\n",
              "      <td>@@21968160</td>\n",
              "      <td>migrant</td>\n",
              "      <td>gh</td>\n",
              "      <td>In Libya today , there are countless number of...</td>\n",
              "      <td>0</td>\n",
              "      <td>0</td>\n",
              "    </tr>\n",
              "    <tr>\n",
              "      <th>2</th>\n",
              "      <td>3</td>\n",
              "      <td>@@16584954</td>\n",
              "      <td>immigrant</td>\n",
              "      <td>ie</td>\n",
              "      <td>\"White House press secretary Sean Spicer said ...</td>\n",
              "      <td>0</td>\n",
              "      <td>0</td>\n",
              "    </tr>\n",
              "    <tr>\n",
              "      <th>3</th>\n",
              "      <td>4</td>\n",
              "      <td>@@7811231</td>\n",
              "      <td>disabled</td>\n",
              "      <td>nz</td>\n",
              "      <td>Council customers only signs would be displaye...</td>\n",
              "      <td>0</td>\n",
              "      <td>0</td>\n",
              "    </tr>\n",
              "    <tr>\n",
              "      <th>4</th>\n",
              "      <td>5</td>\n",
              "      <td>@@1494111</td>\n",
              "      <td>refugee</td>\n",
              "      <td>ca</td>\n",
              "      <td>\"\"\" Just like we received migrants fleeing El ...</td>\n",
              "      <td>0</td>\n",
              "      <td>0</td>\n",
              "    </tr>\n",
              "    <tr>\n",
              "      <th>...</th>\n",
              "      <td>...</td>\n",
              "      <td>...</td>\n",
              "      <td>...</td>\n",
              "      <td>...</td>\n",
              "      <td>...</td>\n",
              "      <td>...</td>\n",
              "      <td>...</td>\n",
              "    </tr>\n",
              "    <tr>\n",
              "      <th>10464</th>\n",
              "      <td>10465</td>\n",
              "      <td>@@14297363</td>\n",
              "      <td>women</td>\n",
              "      <td>lk</td>\n",
              "      <td>\"Sri Lankan norms and culture inhibit women fr...</td>\n",
              "      <td>0</td>\n",
              "      <td>1</td>\n",
              "    </tr>\n",
              "    <tr>\n",
              "      <th>10465</th>\n",
              "      <td>10466</td>\n",
              "      <td>@@70091353</td>\n",
              "      <td>vulnerable</td>\n",
              "      <td>ph</td>\n",
              "      <td>He added that the AFP will continue to bank on...</td>\n",
              "      <td>0</td>\n",
              "      <td>0</td>\n",
              "    </tr>\n",
              "    <tr>\n",
              "      <th>10466</th>\n",
              "      <td>10467</td>\n",
              "      <td>@@20282330</td>\n",
              "      <td>in-need</td>\n",
              "      <td>ng</td>\n",
              "      <td>\"\"\" She has one huge platform , and informatio...</td>\n",
              "      <td>1</td>\n",
              "      <td>3</td>\n",
              "    </tr>\n",
              "    <tr>\n",
              "      <th>10467</th>\n",
              "      <td>10468</td>\n",
              "      <td>@@16753236</td>\n",
              "      <td>hopeless</td>\n",
              "      <td>in</td>\n",
              "      <td>\"\"\" Anja Ringgren Loven I ca n't find a word t...</td>\n",
              "      <td>1</td>\n",
              "      <td>4</td>\n",
              "    </tr>\n",
              "    <tr>\n",
              "      <th>10468</th>\n",
              "      <td>10469</td>\n",
              "      <td>@@16779383</td>\n",
              "      <td>homeless</td>\n",
              "      <td>ie</td>\n",
              "      <td>\"\"\" Guinness World Record of 540lbs of 7-layer...</td>\n",
              "      <td>1</td>\n",
              "      <td>3</td>\n",
              "    </tr>\n",
              "  </tbody>\n",
              "</table>\n",
              "<p>10469 rows × 7 columns</p>\n",
              "</div>\n",
              "      <button class=\"colab-df-convert\" onclick=\"convertToInteractive('df-a4749fd6-90bc-4236-ad79-28f17717f343')\"\n",
              "              title=\"Convert this dataframe to an interactive table.\"\n",
              "              style=\"display:none;\">\n",
              "        \n",
              "  <svg xmlns=\"http://www.w3.org/2000/svg\" height=\"24px\"viewBox=\"0 0 24 24\"\n",
              "       width=\"24px\">\n",
              "    <path d=\"M0 0h24v24H0V0z\" fill=\"none\"/>\n",
              "    <path d=\"M18.56 5.44l.94 2.06.94-2.06 2.06-.94-2.06-.94-.94-2.06-.94 2.06-2.06.94zm-11 1L8.5 8.5l.94-2.06 2.06-.94-2.06-.94L8.5 2.5l-.94 2.06-2.06.94zm10 10l.94 2.06.94-2.06 2.06-.94-2.06-.94-.94-2.06-.94 2.06-2.06.94z\"/><path d=\"M17.41 7.96l-1.37-1.37c-.4-.4-.92-.59-1.43-.59-.52 0-1.04.2-1.43.59L10.3 9.45l-7.72 7.72c-.78.78-.78 2.05 0 2.83L4 21.41c.39.39.9.59 1.41.59.51 0 1.02-.2 1.41-.59l7.78-7.78 2.81-2.81c.8-.78.8-2.07 0-2.86zM5.41 20L4 18.59l7.72-7.72 1.47 1.35L5.41 20z\"/>\n",
              "  </svg>\n",
              "      </button>\n",
              "      \n",
              "  <style>\n",
              "    .colab-df-container {\n",
              "      display:flex;\n",
              "      flex-wrap:wrap;\n",
              "      gap: 12px;\n",
              "    }\n",
              "\n",
              "    .colab-df-convert {\n",
              "      background-color: #E8F0FE;\n",
              "      border: none;\n",
              "      border-radius: 50%;\n",
              "      cursor: pointer;\n",
              "      display: none;\n",
              "      fill: #1967D2;\n",
              "      height: 32px;\n",
              "      padding: 0 0 0 0;\n",
              "      width: 32px;\n",
              "    }\n",
              "\n",
              "    .colab-df-convert:hover {\n",
              "      background-color: #E2EBFA;\n",
              "      box-shadow: 0px 1px 2px rgba(60, 64, 67, 0.3), 0px 1px 3px 1px rgba(60, 64, 67, 0.15);\n",
              "      fill: #174EA6;\n",
              "    }\n",
              "\n",
              "    [theme=dark] .colab-df-convert {\n",
              "      background-color: #3B4455;\n",
              "      fill: #D2E3FC;\n",
              "    }\n",
              "\n",
              "    [theme=dark] .colab-df-convert:hover {\n",
              "      background-color: #434B5C;\n",
              "      box-shadow: 0px 1px 3px 1px rgba(0, 0, 0, 0.15);\n",
              "      filter: drop-shadow(0px 1px 2px rgba(0, 0, 0, 0.3));\n",
              "      fill: #FFFFFF;\n",
              "    }\n",
              "  </style>\n",
              "\n",
              "      <script>\n",
              "        const buttonEl =\n",
              "          document.querySelector('#df-a4749fd6-90bc-4236-ad79-28f17717f343 button.colab-df-convert');\n",
              "        buttonEl.style.display =\n",
              "          google.colab.kernel.accessAllowed ? 'block' : 'none';\n",
              "\n",
              "        async function convertToInteractive(key) {\n",
              "          const element = document.querySelector('#df-a4749fd6-90bc-4236-ad79-28f17717f343');\n",
              "          const dataTable =\n",
              "            await google.colab.kernel.invokeFunction('convertToInteractive',\n",
              "                                                     [key], {});\n",
              "          if (!dataTable) return;\n",
              "\n",
              "          const docLinkHtml = 'Like what you see? Visit the ' +\n",
              "            '<a target=\"_blank\" href=https://colab.research.google.com/notebooks/data_table.ipynb>data table notebook</a>'\n",
              "            + ' to learn more about interactive tables.';\n",
              "          element.innerHTML = '';\n",
              "          dataTable['output_type'] = 'display_data';\n",
              "          await google.colab.output.renderOutput(dataTable, element);\n",
              "          const docLink = document.createElement('div');\n",
              "          docLink.innerHTML = docLinkHtml;\n",
              "          element.appendChild(docLink);\n",
              "        }\n",
              "      </script>\n",
              "    </div>\n",
              "  </div>\n",
              "  "
            ]
          },
          "metadata": {},
          "execution_count": 40
        }
      ],
      "source": [
        "# Use the below code if NOT using google colab\n",
        "# trids = pd.read_csv('train_semeval_parids-labels.csv')\n",
        "# teids = pd.read_csv('dev_semeval_parids-labels.csv')\n",
        "\n",
        "# use the below code if using Colab\n",
        "trids = pd.read_csv('/content/drive/MyDrive/NLPClassification_40-master/train_semeval_parids-labels.csv')\n",
        "teids = pd.read_csv('/content/drive/MyDrive/NLPClassification_40-master/dev_semeval_parids-labels.csv')\n",
        "\n",
        "\n",
        "trids.par_id = trids.par_id.astype(str)\n",
        "teids.par_id = teids.par_id.astype(str)\n",
        "\n",
        "data=dpm.train_task1_df\n",
        "\n",
        "# The below dataframe shows all features of the data for task 1. \n",
        "#(Remember task 1 is a binary classification task which determines if text contains condesending or non condesending langauage)\n",
        "data"
      ]
    },
    {
      "cell_type": "markdown",
      "metadata": {
        "id": "Sk2LnbJZ5iyh"
      },
      "source": [
        "## 4.1. Rebuild training set (Task 1)"
      ]
    },
    {
      "cell_type": "code",
      "execution_count": null,
      "metadata": {
        "colab": {
          "base_uri": "https://localhost:8080/",
          "height": 424
        },
        "id": "8y5kRwAs5fjp",
        "outputId": "43808e76-618b-4a46-b661-c250a235d188"
      },
      "outputs": [
        {
          "output_type": "execute_result",
          "data": {
            "text/plain": [
              "     par_id      community                                               text  \\\n",
              "0      4341  poor-families  The scheme saw an estimated 150,000 children f...   \n",
              "1      4136       homeless  Durban 's homeless communities reconciliation ...   \n",
              "2     10352  poor-families  The next immediate problem that cropped up was...   \n",
              "3      8279     vulnerable  Far more important than the implications for t...   \n",
              "4      1164  poor-families  To strengthen child-sensitive social protectio...   \n",
              "...     ...            ...                                                ...   \n",
              "8370   8380        refugee  Rescue teams search for survivors on the rubbl...   \n",
              "8371   8381       hopeless  The launch of ' Happy Birthday ' took place la...   \n",
              "8372   8382       homeless  The unrest has left at least 20,000 people dea...   \n",
              "8373   8383       hopeless  You have to see it from my perspective . I may...   \n",
              "8374   8384       disabled  Yet there was one occasion when we went to the...   \n",
              "\n",
              "      label  \n",
              "0         1  \n",
              "1         1  \n",
              "2         1  \n",
              "3         1  \n",
              "4         1  \n",
              "...     ...  \n",
              "8370      0  \n",
              "8371      0  \n",
              "8372      0  \n",
              "8373      0  \n",
              "8374      0  \n",
              "\n",
              "[8375 rows x 4 columns]"
            ],
            "text/html": [
              "\n",
              "  <div id=\"df-7ea74225-2776-4436-881e-bf26a635ebbd\">\n",
              "    <div class=\"colab-df-container\">\n",
              "      <div>\n",
              "<style scoped>\n",
              "    .dataframe tbody tr th:only-of-type {\n",
              "        vertical-align: middle;\n",
              "    }\n",
              "\n",
              "    .dataframe tbody tr th {\n",
              "        vertical-align: top;\n",
              "    }\n",
              "\n",
              "    .dataframe thead th {\n",
              "        text-align: right;\n",
              "    }\n",
              "</style>\n",
              "<table border=\"1\" class=\"dataframe\">\n",
              "  <thead>\n",
              "    <tr style=\"text-align: right;\">\n",
              "      <th></th>\n",
              "      <th>par_id</th>\n",
              "      <th>community</th>\n",
              "      <th>text</th>\n",
              "      <th>label</th>\n",
              "    </tr>\n",
              "  </thead>\n",
              "  <tbody>\n",
              "    <tr>\n",
              "      <th>0</th>\n",
              "      <td>4341</td>\n",
              "      <td>poor-families</td>\n",
              "      <td>The scheme saw an estimated 150,000 children f...</td>\n",
              "      <td>1</td>\n",
              "    </tr>\n",
              "    <tr>\n",
              "      <th>1</th>\n",
              "      <td>4136</td>\n",
              "      <td>homeless</td>\n",
              "      <td>Durban 's homeless communities reconciliation ...</td>\n",
              "      <td>1</td>\n",
              "    </tr>\n",
              "    <tr>\n",
              "      <th>2</th>\n",
              "      <td>10352</td>\n",
              "      <td>poor-families</td>\n",
              "      <td>The next immediate problem that cropped up was...</td>\n",
              "      <td>1</td>\n",
              "    </tr>\n",
              "    <tr>\n",
              "      <th>3</th>\n",
              "      <td>8279</td>\n",
              "      <td>vulnerable</td>\n",
              "      <td>Far more important than the implications for t...</td>\n",
              "      <td>1</td>\n",
              "    </tr>\n",
              "    <tr>\n",
              "      <th>4</th>\n",
              "      <td>1164</td>\n",
              "      <td>poor-families</td>\n",
              "      <td>To strengthen child-sensitive social protectio...</td>\n",
              "      <td>1</td>\n",
              "    </tr>\n",
              "    <tr>\n",
              "      <th>...</th>\n",
              "      <td>...</td>\n",
              "      <td>...</td>\n",
              "      <td>...</td>\n",
              "      <td>...</td>\n",
              "    </tr>\n",
              "    <tr>\n",
              "      <th>8370</th>\n",
              "      <td>8380</td>\n",
              "      <td>refugee</td>\n",
              "      <td>Rescue teams search for survivors on the rubbl...</td>\n",
              "      <td>0</td>\n",
              "    </tr>\n",
              "    <tr>\n",
              "      <th>8371</th>\n",
              "      <td>8381</td>\n",
              "      <td>hopeless</td>\n",
              "      <td>The launch of ' Happy Birthday ' took place la...</td>\n",
              "      <td>0</td>\n",
              "    </tr>\n",
              "    <tr>\n",
              "      <th>8372</th>\n",
              "      <td>8382</td>\n",
              "      <td>homeless</td>\n",
              "      <td>The unrest has left at least 20,000 people dea...</td>\n",
              "      <td>0</td>\n",
              "    </tr>\n",
              "    <tr>\n",
              "      <th>8373</th>\n",
              "      <td>8383</td>\n",
              "      <td>hopeless</td>\n",
              "      <td>You have to see it from my perspective . I may...</td>\n",
              "      <td>0</td>\n",
              "    </tr>\n",
              "    <tr>\n",
              "      <th>8374</th>\n",
              "      <td>8384</td>\n",
              "      <td>disabled</td>\n",
              "      <td>Yet there was one occasion when we went to the...</td>\n",
              "      <td>0</td>\n",
              "    </tr>\n",
              "  </tbody>\n",
              "</table>\n",
              "<p>8375 rows × 4 columns</p>\n",
              "</div>\n",
              "      <button class=\"colab-df-convert\" onclick=\"convertToInteractive('df-7ea74225-2776-4436-881e-bf26a635ebbd')\"\n",
              "              title=\"Convert this dataframe to an interactive table.\"\n",
              "              style=\"display:none;\">\n",
              "        \n",
              "  <svg xmlns=\"http://www.w3.org/2000/svg\" height=\"24px\"viewBox=\"0 0 24 24\"\n",
              "       width=\"24px\">\n",
              "    <path d=\"M0 0h24v24H0V0z\" fill=\"none\"/>\n",
              "    <path d=\"M18.56 5.44l.94 2.06.94-2.06 2.06-.94-2.06-.94-.94-2.06-.94 2.06-2.06.94zm-11 1L8.5 8.5l.94-2.06 2.06-.94-2.06-.94L8.5 2.5l-.94 2.06-2.06.94zm10 10l.94 2.06.94-2.06 2.06-.94-2.06-.94-.94-2.06-.94 2.06-2.06.94z\"/><path d=\"M17.41 7.96l-1.37-1.37c-.4-.4-.92-.59-1.43-.59-.52 0-1.04.2-1.43.59L10.3 9.45l-7.72 7.72c-.78.78-.78 2.05 0 2.83L4 21.41c.39.39.9.59 1.41.59.51 0 1.02-.2 1.41-.59l7.78-7.78 2.81-2.81c.8-.78.8-2.07 0-2.86zM5.41 20L4 18.59l7.72-7.72 1.47 1.35L5.41 20z\"/>\n",
              "  </svg>\n",
              "      </button>\n",
              "      \n",
              "  <style>\n",
              "    .colab-df-container {\n",
              "      display:flex;\n",
              "      flex-wrap:wrap;\n",
              "      gap: 12px;\n",
              "    }\n",
              "\n",
              "    .colab-df-convert {\n",
              "      background-color: #E8F0FE;\n",
              "      border: none;\n",
              "      border-radius: 50%;\n",
              "      cursor: pointer;\n",
              "      display: none;\n",
              "      fill: #1967D2;\n",
              "      height: 32px;\n",
              "      padding: 0 0 0 0;\n",
              "      width: 32px;\n",
              "    }\n",
              "\n",
              "    .colab-df-convert:hover {\n",
              "      background-color: #E2EBFA;\n",
              "      box-shadow: 0px 1px 2px rgba(60, 64, 67, 0.3), 0px 1px 3px 1px rgba(60, 64, 67, 0.15);\n",
              "      fill: #174EA6;\n",
              "    }\n",
              "\n",
              "    [theme=dark] .colab-df-convert {\n",
              "      background-color: #3B4455;\n",
              "      fill: #D2E3FC;\n",
              "    }\n",
              "\n",
              "    [theme=dark] .colab-df-convert:hover {\n",
              "      background-color: #434B5C;\n",
              "      box-shadow: 0px 1px 3px 1px rgba(0, 0, 0, 0.15);\n",
              "      filter: drop-shadow(0px 1px 2px rgba(0, 0, 0, 0.3));\n",
              "      fill: #FFFFFF;\n",
              "    }\n",
              "  </style>\n",
              "\n",
              "      <script>\n",
              "        const buttonEl =\n",
              "          document.querySelector('#df-7ea74225-2776-4436-881e-bf26a635ebbd button.colab-df-convert');\n",
              "        buttonEl.style.display =\n",
              "          google.colab.kernel.accessAllowed ? 'block' : 'none';\n",
              "\n",
              "        async function convertToInteractive(key) {\n",
              "          const element = document.querySelector('#df-7ea74225-2776-4436-881e-bf26a635ebbd');\n",
              "          const dataTable =\n",
              "            await google.colab.kernel.invokeFunction('convertToInteractive',\n",
              "                                                     [key], {});\n",
              "          if (!dataTable) return;\n",
              "\n",
              "          const docLinkHtml = 'Like what you see? Visit the ' +\n",
              "            '<a target=\"_blank\" href=https://colab.research.google.com/notebooks/data_table.ipynb>data table notebook</a>'\n",
              "            + ' to learn more about interactive tables.';\n",
              "          element.innerHTML = '';\n",
              "          dataTable['output_type'] = 'display_data';\n",
              "          await google.colab.output.renderOutput(dataTable, element);\n",
              "          const docLink = document.createElement('div');\n",
              "          docLink.innerHTML = docLinkHtml;\n",
              "          element.appendChild(docLink);\n",
              "        }\n",
              "      </script>\n",
              "    </div>\n",
              "  </div>\n",
              "  "
            ]
          },
          "metadata": {},
          "execution_count": 41
        }
      ],
      "source": [
        "rows = [] # will contain par_id, label and text\n",
        "for idx in range(len(trids)):  \n",
        "  parid = trids.par_id[idx]\n",
        "  #print(parid)\n",
        "  # select row from original dataset to retrieve `text` and binary label\n",
        "  keyword = data.loc[data.par_id == parid].keyword.values[0]\n",
        "  text = data.loc[data.par_id == parid].text.values[0]\n",
        "  label = data.loc[data.par_id == parid].label.values[0]\n",
        "  rows.append({\n",
        "      'par_id':parid,\n",
        "      'community':keyword,\n",
        "      'text':text,\n",
        "      'label':label\n",
        "  })\n",
        "trdf1 = pd.DataFrame(rows)\n",
        "#This is the rearraged training set\n",
        "trdf1"
      ]
    },
    {
      "cell_type": "markdown",
      "metadata": {
        "id": "dwseUV5_Nlmz"
      },
      "source": [
        "## 4.2 Rebuild test set (Task 1)"
      ]
    },
    {
      "cell_type": "code",
      "execution_count": null,
      "metadata": {
        "id": "-4tEBXBAGaXN",
        "colab": {
          "base_uri": "https://localhost:8080/",
          "height": 424
        },
        "outputId": "4178fb03-8d27-4aee-c339-530faaa2334c"
      },
      "outputs": [
        {
          "output_type": "execute_result",
          "data": {
            "text/plain": [
              "     par_id   community                                               text  \\\n",
              "0      4046    hopeless  We also know that they can benefit by receivin...   \n",
              "1      1279     refugee  Pope Francis washed and kissed the feet of Mus...   \n",
              "2      8330     refugee  Many refugees do n't want to be resettled anyw...   \n",
              "3      4063     in-need  \"Budding chefs , like \"\" Fred \"\" , \"\" Winston ...   \n",
              "4      4089    homeless  \"In a 90-degree view of his constituency , one...   \n",
              "...     ...         ...                                                ...   \n",
              "2089  10462    homeless  The sad spectacle , which occurred on Saturday...   \n",
              "2090  10463     refugee  \"\"\" The Pakistani police came to our house and...   \n",
              "2091  10464    disabled  \"When Marie O'Donoghue went looking for a spec...   \n",
              "2092  10465       women  \"Sri Lankan norms and culture inhibit women fr...   \n",
              "2093  10466  vulnerable  He added that the AFP will continue to bank on...   \n",
              "\n",
              "      label  \n",
              "0         1  \n",
              "1         1  \n",
              "2         1  \n",
              "3         1  \n",
              "4         1  \n",
              "...     ...  \n",
              "2089      0  \n",
              "2090      0  \n",
              "2091      0  \n",
              "2092      0  \n",
              "2093      0  \n",
              "\n",
              "[2094 rows x 4 columns]"
            ],
            "text/html": [
              "\n",
              "  <div id=\"df-45fb3197-1309-4a07-a132-61ac83d9fb5d\">\n",
              "    <div class=\"colab-df-container\">\n",
              "      <div>\n",
              "<style scoped>\n",
              "    .dataframe tbody tr th:only-of-type {\n",
              "        vertical-align: middle;\n",
              "    }\n",
              "\n",
              "    .dataframe tbody tr th {\n",
              "        vertical-align: top;\n",
              "    }\n",
              "\n",
              "    .dataframe thead th {\n",
              "        text-align: right;\n",
              "    }\n",
              "</style>\n",
              "<table border=\"1\" class=\"dataframe\">\n",
              "  <thead>\n",
              "    <tr style=\"text-align: right;\">\n",
              "      <th></th>\n",
              "      <th>par_id</th>\n",
              "      <th>community</th>\n",
              "      <th>text</th>\n",
              "      <th>label</th>\n",
              "    </tr>\n",
              "  </thead>\n",
              "  <tbody>\n",
              "    <tr>\n",
              "      <th>0</th>\n",
              "      <td>4046</td>\n",
              "      <td>hopeless</td>\n",
              "      <td>We also know that they can benefit by receivin...</td>\n",
              "      <td>1</td>\n",
              "    </tr>\n",
              "    <tr>\n",
              "      <th>1</th>\n",
              "      <td>1279</td>\n",
              "      <td>refugee</td>\n",
              "      <td>Pope Francis washed and kissed the feet of Mus...</td>\n",
              "      <td>1</td>\n",
              "    </tr>\n",
              "    <tr>\n",
              "      <th>2</th>\n",
              "      <td>8330</td>\n",
              "      <td>refugee</td>\n",
              "      <td>Many refugees do n't want to be resettled anyw...</td>\n",
              "      <td>1</td>\n",
              "    </tr>\n",
              "    <tr>\n",
              "      <th>3</th>\n",
              "      <td>4063</td>\n",
              "      <td>in-need</td>\n",
              "      <td>\"Budding chefs , like \"\" Fred \"\" , \"\" Winston ...</td>\n",
              "      <td>1</td>\n",
              "    </tr>\n",
              "    <tr>\n",
              "      <th>4</th>\n",
              "      <td>4089</td>\n",
              "      <td>homeless</td>\n",
              "      <td>\"In a 90-degree view of his constituency , one...</td>\n",
              "      <td>1</td>\n",
              "    </tr>\n",
              "    <tr>\n",
              "      <th>...</th>\n",
              "      <td>...</td>\n",
              "      <td>...</td>\n",
              "      <td>...</td>\n",
              "      <td>...</td>\n",
              "    </tr>\n",
              "    <tr>\n",
              "      <th>2089</th>\n",
              "      <td>10462</td>\n",
              "      <td>homeless</td>\n",
              "      <td>The sad spectacle , which occurred on Saturday...</td>\n",
              "      <td>0</td>\n",
              "    </tr>\n",
              "    <tr>\n",
              "      <th>2090</th>\n",
              "      <td>10463</td>\n",
              "      <td>refugee</td>\n",
              "      <td>\"\"\" The Pakistani police came to our house and...</td>\n",
              "      <td>0</td>\n",
              "    </tr>\n",
              "    <tr>\n",
              "      <th>2091</th>\n",
              "      <td>10464</td>\n",
              "      <td>disabled</td>\n",
              "      <td>\"When Marie O'Donoghue went looking for a spec...</td>\n",
              "      <td>0</td>\n",
              "    </tr>\n",
              "    <tr>\n",
              "      <th>2092</th>\n",
              "      <td>10465</td>\n",
              "      <td>women</td>\n",
              "      <td>\"Sri Lankan norms and culture inhibit women fr...</td>\n",
              "      <td>0</td>\n",
              "    </tr>\n",
              "    <tr>\n",
              "      <th>2093</th>\n",
              "      <td>10466</td>\n",
              "      <td>vulnerable</td>\n",
              "      <td>He added that the AFP will continue to bank on...</td>\n",
              "      <td>0</td>\n",
              "    </tr>\n",
              "  </tbody>\n",
              "</table>\n",
              "<p>2094 rows × 4 columns</p>\n",
              "</div>\n",
              "      <button class=\"colab-df-convert\" onclick=\"convertToInteractive('df-45fb3197-1309-4a07-a132-61ac83d9fb5d')\"\n",
              "              title=\"Convert this dataframe to an interactive table.\"\n",
              "              style=\"display:none;\">\n",
              "        \n",
              "  <svg xmlns=\"http://www.w3.org/2000/svg\" height=\"24px\"viewBox=\"0 0 24 24\"\n",
              "       width=\"24px\">\n",
              "    <path d=\"M0 0h24v24H0V0z\" fill=\"none\"/>\n",
              "    <path d=\"M18.56 5.44l.94 2.06.94-2.06 2.06-.94-2.06-.94-.94-2.06-.94 2.06-2.06.94zm-11 1L8.5 8.5l.94-2.06 2.06-.94-2.06-.94L8.5 2.5l-.94 2.06-2.06.94zm10 10l.94 2.06.94-2.06 2.06-.94-2.06-.94-.94-2.06-.94 2.06-2.06.94z\"/><path d=\"M17.41 7.96l-1.37-1.37c-.4-.4-.92-.59-1.43-.59-.52 0-1.04.2-1.43.59L10.3 9.45l-7.72 7.72c-.78.78-.78 2.05 0 2.83L4 21.41c.39.39.9.59 1.41.59.51 0 1.02-.2 1.41-.59l7.78-7.78 2.81-2.81c.8-.78.8-2.07 0-2.86zM5.41 20L4 18.59l7.72-7.72 1.47 1.35L5.41 20z\"/>\n",
              "  </svg>\n",
              "      </button>\n",
              "      \n",
              "  <style>\n",
              "    .colab-df-container {\n",
              "      display:flex;\n",
              "      flex-wrap:wrap;\n",
              "      gap: 12px;\n",
              "    }\n",
              "\n",
              "    .colab-df-convert {\n",
              "      background-color: #E8F0FE;\n",
              "      border: none;\n",
              "      border-radius: 50%;\n",
              "      cursor: pointer;\n",
              "      display: none;\n",
              "      fill: #1967D2;\n",
              "      height: 32px;\n",
              "      padding: 0 0 0 0;\n",
              "      width: 32px;\n",
              "    }\n",
              "\n",
              "    .colab-df-convert:hover {\n",
              "      background-color: #E2EBFA;\n",
              "      box-shadow: 0px 1px 2px rgba(60, 64, 67, 0.3), 0px 1px 3px 1px rgba(60, 64, 67, 0.15);\n",
              "      fill: #174EA6;\n",
              "    }\n",
              "\n",
              "    [theme=dark] .colab-df-convert {\n",
              "      background-color: #3B4455;\n",
              "      fill: #D2E3FC;\n",
              "    }\n",
              "\n",
              "    [theme=dark] .colab-df-convert:hover {\n",
              "      background-color: #434B5C;\n",
              "      box-shadow: 0px 1px 3px 1px rgba(0, 0, 0, 0.15);\n",
              "      filter: drop-shadow(0px 1px 2px rgba(0, 0, 0, 0.3));\n",
              "      fill: #FFFFFF;\n",
              "    }\n",
              "  </style>\n",
              "\n",
              "      <script>\n",
              "        const buttonEl =\n",
              "          document.querySelector('#df-45fb3197-1309-4a07-a132-61ac83d9fb5d button.colab-df-convert');\n",
              "        buttonEl.style.display =\n",
              "          google.colab.kernel.accessAllowed ? 'block' : 'none';\n",
              "\n",
              "        async function convertToInteractive(key) {\n",
              "          const element = document.querySelector('#df-45fb3197-1309-4a07-a132-61ac83d9fb5d');\n",
              "          const dataTable =\n",
              "            await google.colab.kernel.invokeFunction('convertToInteractive',\n",
              "                                                     [key], {});\n",
              "          if (!dataTable) return;\n",
              "\n",
              "          const docLinkHtml = 'Like what you see? Visit the ' +\n",
              "            '<a target=\"_blank\" href=https://colab.research.google.com/notebooks/data_table.ipynb>data table notebook</a>'\n",
              "            + ' to learn more about interactive tables.';\n",
              "          element.innerHTML = '';\n",
              "          dataTable['output_type'] = 'display_data';\n",
              "          await google.colab.output.renderOutput(dataTable, element);\n",
              "          const docLink = document.createElement('div');\n",
              "          docLink.innerHTML = docLinkHtml;\n",
              "          element.appendChild(docLink);\n",
              "        }\n",
              "      </script>\n",
              "    </div>\n",
              "  </div>\n",
              "  "
            ]
          },
          "metadata": {},
          "execution_count": 43
        }
      ],
      "source": [
        "rows = [] # will contain par_id, label and text\n",
        "for idx in range(len(teids)):  \n",
        "  parid = teids.par_id[idx]\n",
        "  #print(parid)\n",
        "  # select row from original dataset\n",
        "  keyword = data.loc[data.par_id == parid].keyword.values[0]\n",
        "  text = data.loc[data.par_id == parid].text.values[0]\n",
        "  label = data.loc[data.par_id == parid].label.values[0]\n",
        "  rows.append({\n",
        "      'par_id':parid,\n",
        "      'community':keyword,\n",
        "      'text':text,\n",
        "      'label':label\n",
        "  })\n",
        "tedf1 = pd.DataFrame(rows)\n",
        "tedf1"
      ]
    },
    {
      "cell_type": "code",
      "execution_count": null,
      "metadata": {
        "colab": {
          "base_uri": "https://localhost:8080/"
        },
        "id": "9eTtWQ81Nu2T",
        "outputId": "e7df3870-aa8d-4ab9-a296-890d0b3fcd70"
      },
      "outputs": [
        {
          "output_type": "execute_result",
          "data": {
            "text/plain": [
              "2094"
            ]
          },
          "metadata": {},
          "execution_count": 39
        }
      ],
      "source": [
        "len(rows)"
      ]
    },
    {
      "cell_type": "markdown",
      "source": [
        "# 5. Baseline models (BOWs)"
      ],
      "metadata": {
        "id": "HH8a7sApZZLe"
      }
    },
    {
      "cell_type": "code",
      "source": [
        "!pip install -U scikit-learn"
      ],
      "metadata": {
        "colab": {
          "base_uri": "https://localhost:8080/"
        },
        "id": "z50L0PXiD269",
        "outputId": "5e1ff666-55cc-46b0-cb63-fe27e4f279a3"
      },
      "execution_count": null,
      "outputs": [
        {
          "output_type": "stream",
          "name": "stdout",
          "text": [
            "Looking in indexes: https://pypi.org/simple, https://us-python.pkg.dev/colab-wheels/public/simple/\n",
            "Requirement already satisfied: scikit-learn in /usr/local/lib/python3.8/dist-packages (1.2.1)\n",
            "Requirement already satisfied: numpy>=1.17.3 in /usr/local/lib/python3.8/dist-packages (from scikit-learn) (1.22.4)\n",
            "Requirement already satisfied: threadpoolctl>=2.0.0 in /usr/local/lib/python3.8/dist-packages (from scikit-learn) (3.1.0)\n",
            "Requirement already satisfied: joblib>=1.1.1 in /usr/local/lib/python3.8/dist-packages (from scikit-learn) (1.2.0)\n",
            "Requirement already satisfied: scipy>=1.3.2 in /usr/local/lib/python3.8/dist-packages (from scikit-learn) (1.10.1)\n"
          ]
        }
      ]
    },
    {
      "cell_type": "code",
      "source": [
        "from sklearn.feature_extraction.text import CountVectorizer\n",
        "from sklearn.naive_bayes import MultinomialNB\n",
        "from sklearn.metrics import accuracy_score, f1_score\n",
        "import xgboost as xgb\n",
        "from sklearn.neural_network import MLPClassifier\n",
        "from sklearn.svm import LinearSVC\n",
        "from sklearn.naive_bayes import MultinomialNB"
      ],
      "metadata": {
        "id": "-9QZoYEaOyly"
      },
      "execution_count": null,
      "outputs": []
    },
    {
      "cell_type": "code",
      "source": [
        "# Take X_train and y_train\n",
        "X_train = trdf1['text']\n",
        "y_train = trdf1['label']\n",
        "\n",
        "X_test = tedf1['text']\n",
        "y_test = tedf1['label']"
      ],
      "metadata": {
        "id": "OyT0fxzFOhQx"
      },
      "execution_count": null,
      "outputs": []
    },
    {
      "cell_type": "code",
      "source": [
        "# Use Bag of Words to transform X_train and X_test\n",
        "vectorizer = CountVectorizer(stop_words='english')\n",
        "train_features = vectorizer.fit_transform(X_train)\n",
        "\n",
        "test_features = vectorizer.transform(X_test)"
      ],
      "metadata": {
        "id": "jFX2r-aFOonx"
      },
      "execution_count": null,
      "outputs": []
    },
    {
      "cell_type": "code",
      "source": [
        "vectorizer.get_feature_names_out()"
      ],
      "metadata": {
        "colab": {
          "base_uri": "https://localhost:8080/"
        },
        "id": "t428pfV7DJNN",
        "outputId": "dc238c15-9f84-4774-8474-cda3afd0350e"
      },
      "execution_count": null,
      "outputs": [
        {
          "output_type": "execute_result",
          "data": {
            "text/plain": [
              "array(['00', '000', '000m', ..., 'zuri', 'zurita', 'zyngier'],\n",
              "      dtype=object)"
            ]
          },
          "metadata": {},
          "execution_count": 81
        }
      ]
    },
    {
      "cell_type": "code",
      "source": [
        "# SVM classifier\n",
        "clf = LinearSVC()\n",
        "clf.fit(train_features, y_train)\n",
        "\n",
        "#Predictions on the test set\n",
        "preds = clf.predict(test_features)\n",
        "svm_acc = accuracy_score(y_test, preds)\n",
        "svm_f1 = f1_score(y_test, preds)\n",
        "\n",
        "# Print the accuracy and F1 score of the SVM\n",
        "print('SVM:')\n",
        "print('Accuracy:', accuracy_score(y_test, preds))\n",
        "print('F1 score:', f1_score(y_test, preds))\n",
        "print('')"
      ],
      "metadata": {
        "colab": {
          "base_uri": "https://localhost:8080/"
        },
        "id": "NMz_spTiBhLe",
        "outputId": "7dc56f2f-5047-41ab-9b74-0c08c46b47a1"
      },
      "execution_count": null,
      "outputs": [
        {
          "output_type": "stream",
          "name": "stdout",
          "text": [
            "SVM:\n",
            "Accuracy: 0.874880611270296\n",
            "F1 score: 0.2841530054644809\n",
            "\n"
          ]
        }
      ]
    },
    {
      "cell_type": "code",
      "source": [
        "X_test "
      ],
      "metadata": {
        "colab": {
          "base_uri": "https://localhost:8080/"
        },
        "id": "b_s5keE7JprS",
        "outputId": "987cf96d-48fa-461a-b3a6-a780ec6a7a93"
      },
      "execution_count": null,
      "outputs": [
        {
          "output_type": "execute_result",
          "data": {
            "text/plain": [
              "0       We also know that they can benefit by receivin...\n",
              "1       Pope Francis washed and kissed the feet of Mus...\n",
              "2       Many refugees do n't want to be resettled anyw...\n",
              "3       \"Budding chefs , like \"\" Fred \"\" , \"\" Winston ...\n",
              "4       \"In a 90-degree view of his constituency , one...\n",
              "                              ...                        \n",
              "2089    The sad spectacle , which occurred on Saturday...\n",
              "2090    \"\"\" The Pakistani police came to our house and...\n",
              "2091    \"When Marie O'Donoghue went looking for a spec...\n",
              "2092    \"Sri Lankan norms and culture inhibit women fr...\n",
              "2093    He added that the AFP will continue to bank on...\n",
              "Name: text, Length: 2094, dtype: object"
            ]
          },
          "metadata": {},
          "execution_count": 100
        }
      ]
    },
    {
      "cell_type": "code",
      "source": [
        "shortest = 10000*'a'\n",
        "best_i = 99999\n",
        "for i,(sample,pred,real) in enumerate(zip(X_test,preds,y_test)):\n",
        "    \n",
        "    if pred==0 and real==1 and len(sample)<len(shortest) and len(sample)>46:\n",
        "        shortest = sample\n",
        "        best_i = i\n",
        "        \n"
      ],
      "metadata": {
        "id": "igOaX44eJQtR"
      },
      "execution_count": null,
      "outputs": []
    },
    {
      "cell_type": "code",
      "source": [
        "for i,(sample,pred,real) in enumerate(zip(X_train,preds,y_test)):\n",
        "    \n",
        "    if 'shiver' in sample:\n",
        "      print(sample)\n",
        "      print(real)\n",
        "      print(' ')"
      ],
      "metadata": {
        "colab": {
          "base_uri": "https://localhost:8080/"
        },
        "id": "AamXU0R5PRWt",
        "outputId": "adbdb179-ef01-4b5c-a1ff-42f123b5ac71"
      },
      "execution_count": null,
      "outputs": [
        {
          "output_type": "stream",
          "name": "stdout",
          "text": [
            "Hospitals fill as Rohingya refugees shiver through winter\n",
            "1\n",
            " \n"
          ]
        }
      ]
    },
    {
      "cell_type": "code",
      "source": [
        "# Get the coefficient of the svm moel\n",
        "coef = clf.coef_[0]\n",
        "\n",
        "# map the coefficients to the corresponding words/features\n",
        "feature_names = vectorizer.get_feature_names_out()\n",
        "coef_features = list(zip(coef,feature_names))\n",
        "\n",
        "# Sort the features based on their coefficients\n",
        "sorted_features = sorted(coef_features, key=lambda x: x[0], reverse=True)\n",
        "\n",
        "# Print the top 10 most important features\n",
        "print(sorted_features[:10])"
      ],
      "metadata": {
        "colab": {
          "base_uri": "https://localhost:8080/"
        },
        "id": "Wi21IO4hBn50",
        "outputId": "535481cc-afe5-42e0-8270-61938dca7f88"
      },
      "execution_count": null,
      "outputs": [
        {
          "output_type": "stream",
          "name": "stdout",
          "text": [
            "[(1.1119693441714147, 'hurdle'), (0.9406260128972781, 'dreamers'), (0.9060215653425328, 'christmas'), (0.9056337123677335, 'underprivileged'), (0.8435644304612798, 'shiver'), (0.8275216954890898, 'goal'), (0.8166953451089074, 'generation'), (0.811364170329286, 'lets'), (0.8110559665698589, 'brink'), (0.8041819436786729, 'delivered')]\n"
          ]
        }
      ]
    },
    {
      "cell_type": "markdown",
      "source": [
        "**Bag of Words**"
      ],
      "metadata": {
        "id": "71A5jjhETKX0"
      }
    },
    {
      "cell_type": "code",
      "source": [
        "# Train a XGBoost Classifier\n",
        "xgboost = xgb.XGBClassifier()\n",
        "xgboost.fit(train_features, y_train)\n",
        "\n",
        "# Make predictions on the test set\n",
        "preds = xgboost.predict(test_features)\n",
        "xgb_acc = accuracy_score(y_test, preds)\n",
        "xgb_f1 = f1_score(y_test, preds)\n",
        "\n",
        "# Print the accuracy score\n",
        "print('XGBoost:')\n",
        "print('Accuracy:', accuracy_score(y_test, preds))\n",
        "print('F1 score:', f1_score(y_test, preds))\n",
        "print('')\n",
        "\n",
        "# Train a Multi-Layer Perceptron (MLP) classifier\n",
        "clf = MLPClassifier()\n",
        "clf.fit(train_features, y_train)\n",
        "\n",
        "# Use the trained MLP classifier to make predictions on the test set\n",
        "predictions = clf.predict(test_features)\n",
        "mlp_acc = accuracy_score(y_test, predictions)\n",
        "mlp_f1 = f1_score(y_test, predictions)\n",
        "\n",
        "# Print the accuracy and F1 score of the MLP classifier\n",
        "print('Multi-Layer Perceptron (MLP) Classifier:')\n",
        "print('Accuracy:', accuracy_score(y_test, predictions))\n",
        "print('F1 score:', f1_score(y_test, predictions))\n",
        "print('')\n",
        "\n",
        "\n",
        "# Train a Multinomial Naive Bayes classifier\n",
        "nb_clf = MultinomialNB()\n",
        "nb_clf.fit(train_features, y_train)\n",
        "\n",
        "# Use the trained Naive Bayes classifier to make predictions on the test set\n",
        "nb_predictions = nb_clf.predict(test_features)\n",
        "nb_acc = accuracy_score(y_test, nb_predictions)\n",
        "nb_f1 = f1_score(y_test, nb_predictions)\n",
        "\n",
        "# Print the accuracy and F1 score of the Naive Bayes classifier\n",
        "print('Multinomial Naive Bayes Classifier:')\n",
        "print('Accuracy:', accuracy_score(y_test, nb_predictions))\n",
        "print('F1 score:', f1_score(y_test, nb_predictions))\n",
        "print('')\n",
        "\n",
        "# SVM classifier\n",
        "clf = LinearSVC()\n",
        "clf.fit(train_features, y_train)\n",
        "\n",
        "#Predictions on the test set\n",
        "preds = clf.predict(test_features)\n",
        "svm_acc = accuracy_score(y_test, preds)\n",
        "svm_f1 = f1_score(y_test, preds)\n",
        "\n",
        "# Print the accuracy and F1 score of the SVM\n",
        "print('SVM:')\n",
        "print('Accuracy:', accuracy_score(y_test, preds))\n",
        "print('F1 score:', f1_score(y_test, preds))\n",
        "print('')\n"
      ],
      "metadata": {
        "colab": {
          "base_uri": "https://localhost:8080/"
        },
        "id": "DgR6SgpbPAJt",
        "outputId": "0f53dbe5-e7fd-4fd0-8aaf-ebb711b8be34"
      },
      "execution_count": null,
      "outputs": [
        {
          "output_type": "stream",
          "name": "stdout",
          "text": [
            "XGBoost:\n",
            "Accuracy: 0.9030563514804203\n",
            "F1 score: 0.15767634854771784\n",
            "\n"
          ]
        },
        {
          "output_type": "stream",
          "name": "stderr",
          "text": [
            "/usr/local/lib/python3.8/dist-packages/sklearn/neural_network/_multilayer_perceptron.py:691: UserWarning: Training interrupted by user.\n",
            "  warnings.warn(\"Training interrupted by user.\")\n"
          ]
        },
        {
          "output_type": "stream",
          "name": "stdout",
          "text": [
            "Multi-Layer Perceptron (MLP) Classifier:\n",
            "Accuracy: 0.894937917860554\n",
            "F1 score: 0.2413793103448276\n",
            "\n",
            "Multinomial Naive Bayes Classifier:\n",
            "Accuracy: 0.9049665711556829\n",
            "F1 score: 0.0\n",
            "\n",
            "SVM:\n",
            "Accuracy: 0.9040114613180515\n",
            "F1 score: 0.2527881040892193\n",
            "\n"
          ]
        }
      ]
    },
    {
      "cell_type": "code",
      "source": [],
      "metadata": {
        "id": "PCbphpc-BLC0"
      },
      "execution_count": null,
      "outputs": []
    },
    {
      "cell_type": "code",
      "source": [
        "#### PLOTTING ####\n",
        "plt.scatter(xgb_acc,xgb_f1,label='XGBoost')\n",
        "plt.scatter(mlp_acc,mlp_f1,label='MLP')\n",
        "plt.scatter(nb_acc,nb_f1,label='Naive Bayes')\n",
        "plt.scatter(svm_acc,svm_f1,label='SVM')\n",
        "plt.legend()\n",
        "plt.xlabel('Accuracy')\n",
        "plt.ylabel('F1 Score')\n",
        "plt.show()\n",
        "\n"
      ],
      "metadata": {
        "colab": {
          "base_uri": "https://localhost:8080/",
          "height": 298
        },
        "id": "reCMXKFHVc_h",
        "outputId": "8a984996-f80a-4758-9d61-13663b7083c7"
      },
      "execution_count": null,
      "outputs": [
        {
          "output_type": "display_data",
          "data": {
            "text/plain": [
              "<Figure size 432x288 with 1 Axes>"
            ],
            "image/png": "[encoded data removed]"
          },
          "metadata": {}
        }
      ]
    },
    {
      "cell_type": "markdown",
      "source": [
        "**TF-IDF**"
      ],
      "metadata": {
        "id": "PjV-hj4lTR80"
      }
    },
    {
      "cell_type": "code",
      "source": [
        "from sklearn.feature_extraction.text import TfidfVectorizer"
      ],
      "metadata": {
        "id": "hG9AwkqWTaWA"
      },
      "execution_count": null,
      "outputs": []
    },
    {
      "cell_type": "code",
      "source": [
        "# TF-IDF model\n",
        "vectorizer = TfidfVectorizer(stop_words='english')\n",
        "train_features = vectorizer.fit_transform(X_train)\n",
        "test_features = vectorizer.transform(X_test)"
      ],
      "metadata": {
        "id": "CQ4fS79yTH4Z"
      },
      "execution_count": null,
      "outputs": []
    },
    {
      "cell_type": "code",
      "source": [
        "# Train a XGBoost Classifier\n",
        "xgboost = xgb.XGBClassifier()\n",
        "xgboost.fit(train_features, y_train)\n",
        "\n",
        "# Make predictions on the test set\n",
        "preds = xgboost.predict(test_features)\n",
        "xgb_acc = accuracy_score(y_test, preds)\n",
        "xgb_f1 = f1_score(y_test, preds)\n",
        "\n",
        "# Print the accuracy score\n",
        "print('XGBoost:')\n",
        "print('Accuracy:', accuracy_score(y_test, preds))\n",
        "print('F1 score:', f1_score(y_test, preds))\n",
        "print('')\n",
        "\n",
        "# Train a Multi-Layer Perceptron (MLP) classifier\n",
        "clf = MLPClassifier()\n",
        "clf.fit(train_features, y_train)\n",
        "\n",
        "# Use the trained MLP classifier to make predictions on the test set\n",
        "predictions = clf.predict(test_features)\n",
        "mlp_acc = accuracy_score(y_test, predictions)\n",
        "mlp_f1 = f1_score(y_test, predictions)\n",
        "\n",
        "# Print the accuracy and F1 score of the MLP classifier\n",
        "print('Multi-Layer Perceptron (MLP) Classifier:')\n",
        "print('Accuracy:', accuracy_score(y_test, predictions))\n",
        "print('F1 score:', f1_score(y_test, predictions))\n",
        "print('')\n",
        "\n",
        "\n",
        "# Train a Multinomial Naive Bayes classifier\n",
        "nb_clf = MultinomialNB()\n",
        "nb_clf.fit(train_features, y_train)\n",
        "\n",
        "# Use the trained Naive Bayes classifier to make predictions on the test set\n",
        "nb_predictions = nb_clf.predict(test_features)\n",
        "nb_acc = accuracy_score(y_test, nb_predictions)\n",
        "nb_f1 = f1_score(y_test, nb_predictions)\n",
        "\n",
        "# Print the accuracy and F1 score of the Naive Bayes classifier\n",
        "print('Multinomial Naive Bayes Classifier:')\n",
        "print('Accuracy:', accuracy_score(y_test, nb_predictions))\n",
        "print('F1 score:', f1_score(y_test, nb_predictions))\n",
        "print('')\n",
        "\n",
        "# SVM classifier\n",
        "clf = LinearSVC()\n",
        "clf.fit(train_features, y_train)\n",
        "\n",
        "#Predictions on the test set\n",
        "preds = clf.predict(test_features)\n",
        "svm_acc = accuracy_score(y_test, preds)\n",
        "svm_f1 = f1_score(y_test, preds)\n",
        "\n",
        "# Print the accuracy and F1 score of the SVM\n",
        "print('SVM:')\n",
        "print('Accuracy:', accuracy_score(y_test, preds))\n",
        "print('F1 score:', f1_score(y_test, preds))\n",
        "print('')\n",
        "\n"
      ],
      "metadata": {
        "colab": {
          "base_uri": "https://localhost:8080/"
        },
        "id": "eboRYDUT2HTC",
        "outputId": "c8ec823c-44c3-4f25-d16e-c1dce1ffced1"
      },
      "execution_count": null,
      "outputs": [
        {
          "output_type": "stream",
          "name": "stdout",
          "text": [
            "XGBoost:\n",
            "Accuracy: 0.9049665711556829\n",
            "F1 score: 0.06572769953051642\n",
            "\n",
            "Multi-Layer Perceptron (MLP) Classifier:\n",
            "Accuracy: 0.8863419293218721\n",
            "F1 score: 0.2371794871794872\n",
            "\n",
            "Multinomial Naive Bayes Classifier:\n",
            "Accuracy: 0.9049665711556829\n",
            "F1 score: 0.0\n",
            "\n",
            "SVM:\n",
            "Accuracy: 0.9040114613180515\n",
            "F1 score: 0.2527881040892193\n",
            "\n"
          ]
        }
      ]
    },
    {
      "cell_type": "code",
      "source": [
        "#### PLOTTING ####\n",
        "plt.scatter(xgb_acc,xgb_f1,label='XGBoost')\n",
        "plt.scatter(mlp_acc,mlp_f1,label='MLP')\n",
        "plt.scatter(nb_acc,nb_f1,label='Naive Bayes')\n",
        "plt.scatter(svm_acc,svm_f1,label='SVM')\n",
        "plt.legend()\n",
        "plt.xlabel('Accuracy')\n",
        "plt.ylabel('F1 Score')\n",
        "plt.show()\n"
      ],
      "metadata": {
        "id": "-97nKerL0Tz9",
        "colab": {
          "base_uri": "https://localhost:8080/",
          "height": 298
        },
        "outputId": "48a3e5cc-bcff-4149-a791-74eb7e5784b3"
      },
      "execution_count": null,
      "outputs": [
        {
          "output_type": "display_data",
          "data": {
            "text/plain": [
              "<Figure size 432x288 with 1 Axes>"
            ],
            "image/png": "[encoded data removed]"
          },
          "metadata": {}
        }
      ]
    },
    {
      "cell_type": "code",
      "source": [],
      "metadata": {
        "id": "8xKOAqRs0TyL"
      },
      "execution_count": null,
      "outputs": []
    },
    {
      "cell_type": "code",
      "source": [],
      "metadata": {
        "id": "jwTFux3T0Tvi"
      },
      "execution_count": null,
      "outputs": []
    },
    {
      "cell_type": "code",
      "source": [],
      "metadata": {
        "id": "ep9QUQOk0TsH"
      },
      "execution_count": null,
      "outputs": []
    },
    {
      "cell_type": "markdown",
      "metadata": {
        "id": "PNs-T3Rl324H"
      },
      "source": []
    },
    {
      "cell_type": "markdown",
      "metadata": {
        "id": "Rh4tXLNr320o"
      },
      "source": []
    },
    {
      "cell_type": "markdown",
      "metadata": {
        "id": "2zfXqUTz32sD"
      },
      "source": []
    },
    {
      "cell_type": "markdown",
      "metadata": {
        "id": "yqay8_Zb32pH"
      },
      "source": []
    },
    {
      "cell_type": "code",
      "execution_count": null,
      "metadata": {
        "id": "pX5JzaId9rWm"
      },
      "outputs": [],
      "source": [
        "# helper function to save predictions to an output file\n",
        "def labels2file(p, outf_path):\n",
        "\twith open(outf_path,'w') as outf:\n",
        "\t\tfor pi in p:\n",
        "\t\t\toutf.write(','.join([str(k) for k in pi])+'\\n')"
      ]
    },
    {
      "cell_type": "markdown",
      "metadata": {
        "id": "LyPF_Gtd9xT9"
      },
      "source": [
        "# Generate predictions\n",
        "\n",
        "In this example, our code will just generate a bunch of random predictions for both subtasks."
      ]
    },
    {
      "cell_type": "code",
      "execution_count": null,
      "metadata": {
        "id": "kljiRAHxA1zh"
      },
      "outputs": [],
      "source": [
        "# first, we need to create the res/ and ref/ folders, which the evaluator expects\n",
        "!mkdir ref res"
      ]
    },
    {
      "cell_type": "code",
      "execution_count": null,
      "metadata": {
        "id": "qNhV7Raz-6my"
      },
      "outputs": [],
      "source": [
        "dpm.load_test()"
      ]
    },
    {
      "cell_type": "code",
      "execution_count": null,
      "metadata": {
        "id": "V6S7L0BiT-yD"
      },
      "outputs": [],
      "source": [
        "# random predictions for task 1\n",
        "preds_task1 = [[random.randint(0,1)] for k in range(0,len(dpm.test_set))]\n",
        "labels2file(preds_task1, os.path.join('res/', 'task1.txt'))"
      ]
    },
    {
      "cell_type": "code",
      "execution_count": null,
      "metadata": {
        "id": "lsFszPYdUIUO"
      },
      "outputs": [],
      "source": [
        "# random predictions for task 2\n",
        "preds_task2 = [[random.choice([0,1]) for k in range(7)] for k in range(0,len(dpm.test_set))]\n",
        "labels2file(preds_task2, os.path.join('res/', 'task2.txt'))"
      ]
    },
    {
      "cell_type": "markdown",
      "metadata": {
        "id": "Z63hEpsm_Qgn"
      },
      "source": [
        "# Evaluate predictions\n",
        "\n",
        "After generating two prediction files (`task1.txt` and `task2.txt`), we can just call the scorer (`evaluation.py`), which will generate a `scores.txt` file."
      ]
    },
    {
      "cell_type": "markdown",
      "metadata": {
        "id": "69wGJxmqDuVD"
      },
      "source": [
        "## Get gold labels\n",
        "\n",
        "We will use the gold labels of the training set and compare our random predictions to them."
      ]
    },
    {
      "cell_type": "code",
      "execution_count": null,
      "metadata": {
        "id": "FVfa-UhvCa2v"
      },
      "outputs": [],
      "source": [
        "# for subtask 1 (we convert our list of labels into a list of lists to make \n",
        "# it compatible with the labels2file function)\n",
        "labels2file(dpm.train_task1_df.label.apply(lambda x:[x]).tolist(), os.path.join('ref/', 'task1.txt'))\n",
        "# and for subtask 2\n",
        "labels2file(dpm.train_task2_df.label.tolist(), os.path.join('ref/', 'task2.txt'))"
      ]
    },
    {
      "cell_type": "markdown",
      "metadata": {
        "id": "h0DTuPlhE3Uz"
      },
      "source": [
        "## Call task scorer and print results"
      ]
    },
    {
      "cell_type": "code",
      "execution_count": null,
      "metadata": {
        "id": "hcfPPtez__BU"
      },
      "outputs": [],
      "source": [
        "# Now, we can just call the official scorer, which takes an input_directory and an output_directory\n",
        "# as arguments. In this example, both will be the root directory of this notebook.\n",
        "!python3 evaluation.py . ."
      ]
    },
    {
      "cell_type": "code",
      "execution_count": null,
      "metadata": {
        "id": "P9Eu-lCVDE3O"
      },
      "outputs": [],
      "source": [
        "# The scorer generated a results file called \"scores.txt\". \n",
        "# We can now see the performance of a random baseline on the training set.\n",
        "!cat scores.txt"
      ]
    }
  ],
  "metadata": {
    "colab": {
      "provenance": []
    },
    "kernelspec": {
      "display_name": "base",
      "language": "python",
      "name": "python3"
    },
    "language_info": {
      "codemirror_mode": {
        "name": "ipython",
        "version": 3
      },
      "file_extension": ".py",
      "mimetype": "text/x-python",
      "name": "python",
      "nbconvert_exporter": "python",
      "pygments_lexer": "ipython3",
      "version": "3.9.12"
    },
    "vscode": {
      "interpreter": {
        "hash": "f8b572e961bec90d9af8d9cb5654161b0487fe9567f9a96759fd1e9d3c4908c9"
      }
    },
    "accelerator": "GPU",
    "gpuClass": "standard"
  },
  "nbformat": 4,
  "nbformat_minor": 0
}